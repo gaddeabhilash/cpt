{
 "cells": [
  {
   "cell_type": "code",
   "execution_count": 2,
   "id": "252bc7fe",
   "metadata": {},
   "outputs": [
    {
     "name": "stdout",
     "output_type": "stream",
     "text": [
      "original string: missisipi\n",
      "sorted string: iiiimpsss\n"
     ]
    }
   ],
   "source": [
    "#csort constants\n",
    "def csortstring(name):\n",
    "    count=[0]*26\n",
    "    for char in name:\n",
    "        count[ord(char)-ord('a')]+=1\n",
    "    sorted_str= ''\n",
    "    for i in range(26):\n",
    "        sorted_str+=chr(i+ord('a'))* count[i]\n",
    "    return sorted_str\n",
    "name=input(\"Enter a single world\")\n",
    "sorted_name=csortstring(name)\n",
    "print(\"original string:\",name)\n",
    "print(\"sorted string:\",sorted_name)"
   ]
  },
  {
   "cell_type": "code",
   "execution_count": 4,
   "id": "eaab0822",
   "metadata": {},
   "outputs": [
    {
     "name": "stdout",
     "output_type": "stream",
     "text": [
      "before sort [170, 45, 75, 90, 802, 24, 2, 66]\n",
      "after sort [2, 24, 45, 66, 75, 90, 170, 802]\n"
     ]
    }
   ],
   "source": [
    "#radix sort\n",
    "'''\n",
    "1.find the maximum number to determinenno of digits\n",
    "2.sect 10^0, for digit position\n",
    "3.increment digit position, w.r.t pass\n",
    "4.loop -> max num//exp>0\n",
    "   perfor count sort based on current digit\n",
    "   (num//exp)%10\n",
    "   multiply exp by 10\n",
    "'''\n",
    "def count_sort(arr,exp):\n",
    "    n=len(arr)\n",
    "    output=[0]*n\n",
    "    count=[0]*10\n",
    "    for i in range(n):\n",
    "        index=(arr[i]//exp)%10\n",
    "        count[index]+=1\n",
    "    for i in range(1,10):\n",
    "        count[i]+=count[i-1]\n",
    "    i=n-1\n",
    "    while i>=0:\n",
    "        index=(arr[i]//exp)%10\n",
    "        output[count[index]-1]=arr[i]\n",
    "        count[index]-=1\n",
    "        i-=1\n",
    "    for i in range(n):\n",
    "        arr[i]=output[i]\n",
    "def radix_sort(arr):\n",
    "    max_num=max(arr)\n",
    "    exp=1\n",
    "    while max_num//exp>0:\n",
    "        count_sort(arr,exp)\n",
    "        exp*=10   \n",
    "arr=[170,45,75,90,802,24,2,66]\n",
    "print(\"before sort\",arr)\n",
    "radix_sort(arr)\n",
    "print(\"after sort\",arr)"
   ]
  },
  {
   "cell_type": "code",
   "execution_count": null,
   "id": "6b732e3e",
   "metadata": {},
   "outputs": [],
   "source": []
  }
 ],
 "metadata": {
  "kernelspec": {
   "display_name": "base",
   "language": "python",
   "name": "python3"
  },
  "language_info": {
   "codemirror_mode": {
    "name": "ipython",
    "version": 3
   },
   "file_extension": ".py",
   "mimetype": "text/x-python",
   "name": "python",
   "nbconvert_exporter": "python",
   "pygments_lexer": "ipython3",
   "version": "3.12.7"
  }
 },
 "nbformat": 4,
 "nbformat_minor": 5
}
