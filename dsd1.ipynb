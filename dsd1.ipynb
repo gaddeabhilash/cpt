{
 "cells": [
  {
   "cell_type": "code",
   "execution_count": 8,
   "id": "2198822e-aa3a-42e1-99df-3549a3870c32",
   "metadata": {},
   "outputs": [
    {
     "name": "stdout",
     "output_type": "stream",
     "text": [
      "[10, 20, 25, 30, 40, 50]\n",
      "[10, 20, 25, 40]\n",
      "10 20 25 40 \n",
      "25 in array? True\n"
     ]
    }
   ],
   "source": [
    "#Aray operations\n",
    "arr=[10,20,30,40]\n",
    "#insert\n",
    "arr.append(50)\n",
    "arr.insert(2,25)#at pos\n",
    "print(arr)\n",
    "#deletion\n",
    "arr.remove(30)#removes 30\n",
    "arr.pop()#deletes last element\n",
    "print(arr)\n",
    "#traversal\n",
    "for i in arr:\n",
    "    print(i , end=' ')\n",
    "#searching\n",
    "print(\"\\n25 in array?\",25 in arr)"
   ]
  },
  {
   "cell_type": "code",
   "execution_count": 3,
   "id": "c68d32a4",
   "metadata": {},
   "outputs": [
    {
     "name": "stdout",
     "output_type": "stream",
     "text": [
      "Not\n",
      "{'a': 1, 'b': 1, 'h': 1, 'i': 1}\n"
     ]
    }
   ],
   "source": [
    "'''program to check whether the given string is palindrome or not'''\n",
    "text=input(\"Enter a name:\")\n",
    "if text==text[::-1]:\n",
    "    print(\"Palindrome\")\n",
    "else:\n",
    "    print(\"Not\")\n",
    "freq={}\n",
    "for ch in text:\n",
    "    freq[ch]=freq.get(ch,0)+1\n",
    "print(freq)"
   ]
  },
  {
   "cell_type": "code",
   "execution_count": 4,
   "id": "f968a5f5",
   "metadata": {},
   "outputs": [
    {
     "name": "stdout",
     "output_type": "stream",
     "text": [
      "Enter the elements:\n",
      "\n",
      " Element not found\n"
     ]
    }
   ],
   "source": [
    "#linear search\n",
    "'''\n",
    "1.arr of list of sixe n\n",
    "2.key for search element\n",
    "3.Start with zero index value\n",
    "4.compare arr[i]==key\n",
    " arr[i]==key return index\n",
    " else not(move to next index)\n",
    "5.repeat same steps till n-1\n",
    "6.if no match return -1\n",
    "'''\n",
    "def linear_search(arr,key):\n",
    "    for i in range(len(arr)):\n",
    "        if arr[i]==key:\n",
    "            return i\n",
    "    return -1        \n",
    "size=int(input(\"Enter the size of array:\"))\n",
    "arr=[]\n",
    "print(\"Enter the elements:\")\n",
    "for i in range(size):\n",
    "    num=int(input(f\"Element {i+1}\"))\n",
    "    arr.append(num)\n",
    "key=int(input(\"Enter the element to search:\"))\n",
    "result=linear_search(arr,key)\n",
    "if result!= -1:\n",
    "    print(f\"\\n Element {key} found at {result}\")\n",
    "else:\n",
    "    print(f\"\\n Element not found\")\n"
   ]
  },
  {
   "cell_type": "code",
   "execution_count": 2,
   "id": "6954b2fa",
   "metadata": {},
   "outputs": [
    {
     "name": "stdout",
     "output_type": "stream",
     "text": [
      "Enter the elements:\n",
      "\n",
      " Element 13 found at 1\n"
     ]
    }
   ],
   "source": [
    "#binary Search\n",
    "'''\n",
    "Divide and conq\n",
    "set low and high 0->n-1\n",
    "condition low<=high\n",
    "mid= low+high//2\n",
    "arr[mid]==key return mid\n",
    "arr[mid]<key low mid+1\n",
    "arr[mid]>key high mid-1\n",
    "not found return -1\n",
    "'''\n",
    "def binary_search(arr,key):\n",
    "    low=0\n",
    "    high=len(arr)-1\n",
    "    while low<=high:\n",
    "        mid=(low+high)//2\n",
    "        if arr[mid]==key:\n",
    "            return mid\n",
    "        elif arr[mid]<key:\n",
    "            low=mid+1\n",
    "        else:\n",
    "            high=mid-1\n",
    "    return -1\n",
    "size=int(input(\"Enter the size of array:\"))\n",
    "arr=[]\n",
    "print(\"Enter the elements:\")\n",
    "for i in range(size):\n",
    "    num=int(input(f\"Element {i+1}\"))\n",
    "    arr.append(num)\n",
    "\n",
    "key=int(input(\"Enter the element to search:\"))\n",
    "result=binary_search(arr,key)\n",
    "if result!= -1:\n",
    "    print(f\"\\n Element {key} found at {result}\")\n",
    "else:\n",
    "    print(f\"\\n Element not found\")"
   ]
  }
 ],
 "metadata": {
  "kernelspec": {
   "display_name": "base",
   "language": "python",
   "name": "python3"
  },
  "language_info": {
   "codemirror_mode": {
    "name": "ipython",
    "version": 3
   },
   "file_extension": ".py",
   "mimetype": "text/x-python",
   "name": "python",
   "nbconvert_exporter": "python",
   "pygments_lexer": "ipython3",
   "version": "3.12.7"
  }
 },
 "nbformat": 4,
 "nbformat_minor": 5
}
