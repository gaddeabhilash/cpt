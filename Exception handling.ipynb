{
 "cells": [
  {
   "cell_type": "code",
   "execution_count": null,
   "id": "8e1311ea",
   "metadata": {},
   "outputs": [
    {
     "data": {
      "text/plain": [
       "'\\nExceptional handling:\\nerrors - logical errors / syntax\\nexceptions - sync async\\n\\n4/0\\n\\n1. Exception - for base classes\\n2. ArthmeticError - math errors\\n3. ZerodivisionError - 4/0\\n4. StopIteration = nextmethod or iterator not available / condition not available\\n5. SstemExit - current os exit\\n6. StandardError = pre defined keywords \\n7. EOFError = i/o till the end of file\\n8. ImportError = file existing errors\\n9. KeyboardInterrupt - Execution interrupt\\n10. NameError - \\n11. ValueError - \\n12. IndexError -\\n13. TypeError - \\n15. IOError\\n'"
      ]
     },
     "execution_count": 3,
     "metadata": {},
     "output_type": "execute_result"
    }
   ],
   "source": [
    "'''\n",
    "Exceptional handling:\n",
    "errors - logical errors / syntax\n",
    "exceptions - sync async\n",
    "\n",
    "1. Exception - for base classes\n",
    "2. ArthmeticError - math errors\n",
    "3. ZerodivisionError - 4/0\n",
    "4. StopIteration = nextmethod or iterator not available / condition not available\n",
    "5. SstemExit - current os exit\n",
    "6. StandardError = pre defined keywords \n",
    "7. EOFError = i/o till the end of file\n",
    "8. ImportError = file existing errors\n",
    "9. KeyboardInterrupt - Execution interrupt (async)\n",
    "10. NameError\n",
    "11. ValueError \n",
    "12. IndexError \n",
    "13. TypeError \n",
    "15. IOError \n",
    "16. RuntimeError \n",
    "17. IndentationError\n",
    "18. OverflowError \n",
    "19. AttributeError\n",
    "20. AssertionError\n",
    "\n",
    "\n",
    "Handling: \n",
    "\n",
    "try:\n",
    "    --------\n",
    "    --------\n",
    "    --------\n",
    "except:\n",
    "    --------\n",
    "    --------\n",
    "'''\n"
   ]
  },
  {
   "cell_type": "code",
   "execution_count": 12,
   "id": "7d89c8ff",
   "metadata": {},
   "outputs": [
    {
     "name": "stdout",
     "output_type": "stream",
     "text": [
      "can't divide by zero\n"
     ]
    }
   ],
   "source": [
    "' print(11/0) ZeroDivisionError: division by zero '\n",
    "try:\n",
    "    num1=int(input(\"enter numerator:\"))\n",
    "    num2=int(input(\"enter denominator:\"))\n",
    "    output= num1/num2\n",
    "    print(\"Result:\" ,output)\n",
    "except ZeroDivisionError:\n",
    "    print(\"can't divide by zero\")"
   ]
  },
  {
   "cell_type": "code",
   "execution_count": 11,
   "id": "6cb0c467",
   "metadata": {},
   "outputs": [
    {
     "name": "stdout",
     "output_type": "stream",
     "text": [
      "File does not Exist\n"
     ]
    }
   ],
   "source": [
    "'''\n",
    "ImportError = file existing errors\n",
    "ValueError\n",
    "'''\n",
    "try:\n",
    "    filename=input(\"enter the file name:\")\n",
    "    file=open(filename, 'r')\n",
    "    number=int(file.readline())\n",
    "    print(\"number from file:\", number)\n",
    "    file.close()\n",
    "except FileNotFoundError:\n",
    "    print(\"File does not Exist\")\n",
    "except ValueError:\n",
    "    print(\"file does not have integer\")\n",
    "except:\n",
    "    print(\"unknown error\")\n",
    "    "
   ]
  },
  {
   "cell_type": "code",
   "execution_count": null,
   "id": "898c183d",
   "metadata": {},
   "outputs": [
    {
     "name": "stdout",
     "output_type": "stream",
     "text": [
      "27\n",
      "Program Terminated\n"
     ]
    }
   ],
   "source": [
    "''' Multiple exection handling with one execpt block \n",
    "KeyboardInterrupt , ValueError , TypeError '''\n",
    "try:\n",
    "    num=int(input(\"enter a number:\"))\n",
    "    print(num**3)\n",
    "except (KeyboardInterrupt , ValueError , TypeError):\n",
    "    print(\"please check before executing\")\n",
    "print(\"Program Terminated\")"
   ]
  },
  {
   "cell_type": "code",
   "execution_count": null,
   "id": "0aaa4f2d",
   "metadata": {},
   "outputs": [
    {
     "name": "stdout",
     "output_type": "stream",
     "text": [
      "squareRoot: 1.4142\n"
     ]
    }
   ],
   "source": [
    "import math\n",
    "try:\n",
    "    num=int(input(\"enter a number:\"))\n",
    "    if num<0:\n",
    "        raise ValueError(\"negitive number\")\n",
    "except ValueError:\n",
    "    print(\"enter positive number only\")\n",
    "else:\n",
    "    print(\"squareRoot:\",round(math.sqrt(num),4))"
   ]
  },
  {
   "cell_type": "code",
   "execution_count": 11,
   "id": "3ca0a8e7",
   "metadata": {},
   "outputs": [
    {
     "name": "stdout",
     "output_type": "stream",
     "text": [
      "2\n",
      "Exception raised intentionally even of use\n"
     ]
    }
   ],
   "source": [
    "import math\n",
    "try:\n",
    "    num=int(input(\"enter a number:\"))\n",
    "    print(num)\n",
    "    raise ValueError\n",
    "except:\n",
    "    print(\"Exception raised intentionally even of use\")"
   ]
  },
  {
   "cell_type": "code",
   "execution_count": 19,
   "id": "2e682a0d",
   "metadata": {},
   "outputs": [],
   "source": [
    "from datetime import datetime\n",
    "file= open(\"logs1.txt\",\"w\")\n",
    "try:\n",
    "    num1=int(input(\"enter numerator:\"))\n",
    "    num2=int(input(\"enter denominator:\"))\n",
    "    output= num1/num2\n",
    "    print(\"Result:\" ,output)\n",
    "except ZeroDivisionError:\n",
    "    current_datetime = datetime.now()\n",
    "    file.write(f\"{current_datetime} can't divide by zero \\n\")\n",
    "try:\n",
    "    filename=input(\"enter the file name:\")\n",
    "    file=open(filename, 'r')\n",
    "    number=int(file.readline())\n",
    "    print(\"number from file:\", number)\n",
    "    file.close()\n",
    "except FileNotFoundError:\n",
    "    current_datetime = datetime.now()\n",
    "    file.write(f\"{current_datetime} File does not Exist \")\n",
    "except ValueError:\n",
    "    current_datetime = datetime.now()\n",
    "    file.write(f\"{current_datetime} file does not have integer \")\n",
    "except:\n",
    "    current_datetime = datetime.now()\n",
    "    file.write(f\"{current_datetime} unknown error\")"
   ]
  }
 ],
 "metadata": {
  "kernelspec": {
   "display_name": "base",
   "language": "python",
   "name": "python3"
  },
  "language_info": {
   "codemirror_mode": {
    "name": "ipython",
    "version": 3
   },
   "file_extension": ".py",
   "mimetype": "text/x-python",
   "name": "python",
   "nbconvert_exporter": "python",
   "pygments_lexer": "ipython3",
   "version": "3.12.7"
  }
 },
 "nbformat": 4,
 "nbformat_minor": 5
}
