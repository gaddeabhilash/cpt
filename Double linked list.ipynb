{
 "cells": [
  {
   "cell_type": "code",
   "execution_count": null,
   "id": "eb3501e2-1a64-42ed-baa0-fec5ad27b2c6",
   "metadata": {},
   "outputs": [],
   "source": [
    "'''\n",
    "Double LL:\n",
    "\n",
    "1.Insertion - at begin, end , position\n",
    "2.Deletion - by value\n",
    "3.Traversal - forward / backward\n",
    "head<--->node<--->node2<--->node3<--->\n",
    "\n",
    "node:\n",
    "class node:\n",
    "    def _init_(self,data):\n",
    "        self.data = data\n",
    "        self.next = none\n",
    "        self.prev = none\n",
    "\n",
    "'''"
   ]
  },
  {
   "cell_type": "code",
   "execution_count": 14,
   "id": "a352eb3d-5fe9-46f3-8214-1574f397a7cf",
   "metadata": {},
   "outputs": [
    {
     "name": "stdin",
     "output_type": "stream",
     "text": [
      "Enter the number of elements to insert at end:  4\n",
      "Enter the element 1:  2\n",
      "Enter the element 2:  4\n",
      "Enter the element 3:  6\n",
      "Enter the element 4:  8\n"
     ]
    },
    {
     "name": "stdout",
     "output_type": "stream",
     "text": [
      "Double Linked List:\n",
      "2<-->4<-->6<-->8<-->None\n"
     ]
    }
   ],
   "source": [
    "# at the end insertion on Dll\n",
    "class Node:\n",
    "    def __init__(self, data):\n",
    "        self.data = data\n",
    "        self.prev = None\n",
    "        self.next = None\n",
    "class Double_linked_list:\n",
    "    def __init__(self):\n",
    "        self.head = None\n",
    "    def iae(self,data):\n",
    "        new_node = Node(data)\n",
    "        if self.head is None:\n",
    "            self.head = new_node\n",
    "            return\n",
    "        temp= self.head\n",
    "        while temp.next:\n",
    "            temp = temp.next\n",
    "        temp.next = new_node\n",
    "        new_node.prev = temp\n",
    "    def display(self):\n",
    "        temp=self.head\n",
    "        print(\"Double Linked List:\")\n",
    "        while temp:\n",
    "            print(temp.data, end=\"<-->\")\n",
    "            temp = temp.next\n",
    "        print(\"None\")\n",
    "dll=Double_linked_list()\n",
    "n= int(input(\"Enter the number of elements to insert at end: \")) #size\n",
    "for i in range(n):\n",
    "    val=int(input(f\"Enter the element {i+1}: \"))\n",
    "    dll.iae(val)\n",
    "dll.display()"
   ]
  },
  {
   "cell_type": "code",
   "execution_count": 12,
   "id": "578f8684-addf-490d-972d-cfdf68103e69",
   "metadata": {},
   "outputs": [
    {
     "name": "stdin",
     "output_type": "stream",
     "text": [
      "Enter the number of elements to insert at end:  4\n",
      "Enter the element 1:  2\n",
      "Enter the element 2:  4\n",
      "Enter the element 3:  6\n",
      "Enter the element 4:  8\n"
     ]
    },
    {
     "name": "stdout",
     "output_type": "stream",
     "text": [
      "Double Linked List:\n",
      "8<-->6<-->4<-->2<-->None\n"
     ]
    }
   ],
   "source": [
    "# at the beginning insertion on Dll\n",
    "class Node:\n",
    "    def __init__(self, data):\n",
    "        self.data = data\n",
    "        self.prev = None\n",
    "        self.next = None\n",
    "class Double_linked_list:\n",
    "    def __init__(self):\n",
    "        self.head = None\n",
    "    def iab(self,data):\n",
    "        new_node = Node(data)\n",
    "        if self.head is None:\n",
    "            self.head = new_node\n",
    "            return\n",
    "        new_node.next = self.head\n",
    "        self.head.prev = new_node\n",
    "        self.head = new_node\n",
    "    def display(self):\n",
    "        temp=self.head\n",
    "        print(\"Double Linked List:\")\n",
    "        while temp:\n",
    "            print(temp.data, end=\"<-->\")\n",
    "            temp = temp.next\n",
    "        print(\"None\")\n",
    "dll=Double_linked_list()\n",
    "n= int(input(\"Enter the number of elements to insert at end: \")) #size\n",
    "for i in range(n):\n",
    "    val=int(input(f\"Enter the element {i+1}: \"))\n",
    "    dll.iab(val)\n",
    "dll.display()"
   ]
  },
  {
   "cell_type": "code",
   "execution_count": null,
   "id": "09b7dfe0-801c-40d9-bd45-e86f36ddbb0d",
   "metadata": {},
   "outputs": [],
   "source": []
  }
 ],
 "metadata": {
  "kernelspec": {
   "display_name": "Python 3 (ipykernel)",
   "language": "python",
   "name": "python3"
  },
  "language_info": {
   "codemirror_mode": {
    "name": "ipython",
    "version": 3
   },
   "file_extension": ".py",
   "mimetype": "text/x-python",
   "name": "python",
   "nbconvert_exporter": "python",
   "pygments_lexer": "ipython3",
   "version": "3.12.7"
  }
 },
 "nbformat": 4,
 "nbformat_minor": 5
}
