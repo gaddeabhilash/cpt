{
 "cells": [
  {
   "cell_type": "code",
   "execution_count": null,
   "id": "eb3501e2-1a64-42ed-baa0-fec5ad27b2c6",
   "metadata": {},
   "outputs": [],
   "source": [
    "'''\n",
    "Double LL:\n",
    "\n",
    "1.Insertion - at begin, end , position\n",
    "2.Deletion - by value\n",
    "3.Traversal - forward / backward\n",
    "head<--->node<--->node2<--->node3<--->\n",
    "\n",
    "node:\n",
    "class node:\n",
    "    def _init_(self,data):\n",
    "        self.data = data\n",
    "        self.next = none\n",
    "        self.prev = none\n",
    "\n",
    "'''"
   ]
  },
  {
   "cell_type": "code",
   "execution_count": 14,
   "id": "a352eb3d-5fe9-46f3-8214-1574f397a7cf",
   "metadata": {},
   "outputs": [
    {
     "name": "stdin",
     "output_type": "stream",
     "text": [
      "Enter the number of elements to insert at end:  4\n",
      "Enter the element 1:  2\n",
      "Enter the element 2:  4\n",
      "Enter the element 3:  6\n",
      "Enter the element 4:  8\n"
     ]
    },
    {
     "name": "stdout",
     "output_type": "stream",
     "text": [
      "Double Linked List:\n",
      "2<-->4<-->6<-->8<-->None\n"
     ]
    }
   ],
   "source": [
    "# at the end insertion on Dll\n",
    "class Node:\n",
    "    def __init__(self, data):\n",
    "        self.data = data\n",
    "        self.prev = None\n",
    "        self.next = None\n",
    "class Double_linked_list:\n",
    "    def __init__(self):\n",
    "        self.head = None\n",
    "    def iae(self,data):\n",
    "        new_node = Node(data)\n",
    "        if self.head is None:\n",
    "            self.head = new_node\n",
    "            return\n",
    "        temp= self.head\n",
    "        while temp.next:\n",
    "            temp = temp.next\n",
    "        temp.next = new_node\n",
    "        new_node.prev = temp\n",
    "    def display(self):\n",
    "        temp=self.head\n",
    "        print(\"Double Linked List:\")\n",
    "        while temp:\n",
    "            print(temp.data, end=\"<-->\")\n",
    "            temp = temp.next\n",
    "        print(\"None\")\n",
    "dll=Double_linked_list()\n",
    "n= int(input(\"Enter the number of elements to insert at end: \")) #size\n",
    "for i in range(n):\n",
    "    val=int(input(f\"Enter the element {i+1}: \"))\n",
    "    dll.iae(val)\n",
    "dll.display()"
   ]
  },
  {
   "cell_type": "code",
   "execution_count": 12,
   "id": "578f8684-addf-490d-972d-cfdf68103e69",
   "metadata": {},
   "outputs": [
    {
     "name": "stdin",
     "output_type": "stream",
     "text": [
      "Enter the number of elements to insert at end:  4\n",
      "Enter the element 1:  2\n",
      "Enter the element 2:  4\n",
      "Enter the element 3:  6\n",
      "Enter the element 4:  8\n"
     ]
    },
    {
     "name": "stdout",
     "output_type": "stream",
     "text": [
      "Double Linked List:\n",
      "8<-->6<-->4<-->2<-->None\n"
     ]
    }
   ],
   "source": [
    "# at the beginning insertion on Dll\n",
    "class Node:\n",
    "    def __init__(self, data):\n",
    "        self.data = data\n",
    "        self.prev = None\n",
    "        self.next = None\n",
    "class Double_linked_list:\n",
    "    def __init__(self):\n",
    "        self.head = None\n",
    "    def iab(self,data):\n",
    "        new_node = Node(data)\n",
    "        if self.head is None:\n",
    "            self.head = new_node\n",
    "            return\n",
    "        new_node.next = self.head\n",
    "        self.head.prev = new_node\n",
    "        self.head = new_node\n",
    "    def display(self):\n",
    "        temp=self.head\n",
    "        print(\"Double Linked List:\")\n",
    "        while temp:\n",
    "            print(temp.data, end=\"<-->\")\n",
    "            temp = temp.next\n",
    "        print(\"None\")\n",
    "dll=Double_linked_list()\n",
    "n= int(input(\"Enter the number of elements to insert at end: \")) #size\n",
    "for i in range(n):\n",
    "    val=int(input(f\"Enter the element {i+1}: \"))\n",
    "    dll.iab(val)\n",
    "dll.display()"
   ]
  },
  {
   "cell_type": "code",
   "execution_count": 1,
   "id": "09b7dfe0-801c-40d9-bd45-e86f36ddbb0d",
   "metadata": {},
   "outputs": [
    {
     "name": "stdin",
     "output_type": "stream",
     "text": [
      "Enter the number of elements to insert at end:  3\n",
      "Enter the element 1:  2\n",
      "Enter the position to insert 2:  1\n",
      "Enter the element 2:  2\n",
      "Enter the position to insert 2:  3\n",
      "Enter the element 3:  2\n",
      "Enter the position to insert 2:  1\n"
     ]
    },
    {
     "name": "stdout",
     "output_type": "stream",
     "text": [
      "Double Linked List:\n",
      "2<-->2<-->100<-->2<-->None\n"
     ]
    }
   ],
   "source": [
    "# at the position on Dll\n",
    "class Node:\n",
    "    def __init__(self, data):\n",
    "        self.data = data\n",
    "        self.prev = None\n",
    "        self.next = None\n",
    "class Double_linked_list:\n",
    "    def __init__(self):\n",
    "        self.head = None\n",
    "    def iap(self,pos,data):\n",
    "        new_node = Node(data)\n",
    "        if pos <= 0:\n",
    "            new_node.next = self.head\n",
    "            if self.head:\n",
    "                self.head.prev = new_node\n",
    "            self.head = new_node\n",
    "        if pos==1:\n",
    "            new_node.next=self.head\n",
    "            if self.head:\n",
    "                self.head.prev=new_node\n",
    "            self.head=new_node\n",
    "            return\n",
    "        temp=self.head\n",
    "        for _ in range(pos-2):\n",
    "            if temp is None:\n",
    "                print(\"Position off range\")\n",
    "                return\n",
    "            temp = temp.next\n",
    "        if temp is None:\n",
    "            print(\"no elements\")\n",
    "            return\n",
    "        new_node.next = temp.next\n",
    "        new_node.prev=temp\n",
    "        if temp.next:\n",
    "            temp.next.prev = new_node\n",
    "        temp.next=new_node\n",
    "    def display(self):\n",
    "        temp=self.head\n",
    "        print(\"Double Linked List:\")\n",
    "        while temp:\n",
    "            print(temp.data, end=\"<-->\")\n",
    "            temp = temp.next\n",
    "        print(\"None\")\n",
    "dll=Double_linked_list()\n",
    "dll.iap(1,100)\n",
    "n= int(input(\"Enter the number of elements to insert at end: \")) #size\n",
    "for i in range(n):\n",
    "    val=int(input(f\"Enter the element {i+1}: \"))\n",
    "    pos=int(input(f\"Enter the position to insert {val}: \"))\n",
    "    dll.iap(pos,val)\n",
    "dll.display()"
   ]
  },
  {
   "cell_type": "code",
   "execution_count": 21,
   "id": "517bed9f-f4bc-49c5-944a-484bc7aed4a0",
   "metadata": {},
   "outputs": [
    {
     "name": "stdin",
     "output_type": "stream",
     "text": [
      "Enter the number of elements to insert at end:  4\n",
      "Enter the element 1:  1\n",
      "Enter the element 2:  2\n",
      "Enter the element 3:  3\n",
      "Enter the element 4:  4\n"
     ]
    },
    {
     "name": "stdout",
     "output_type": "stream",
     "text": [
      "Double Linked List:\n",
      "4<-->3<-->2<-->1<-->None\n",
      "values for traversing forward....\n",
      "1<-->2<-->3<-->4<-->None\n"
     ]
    }
   ],
   "source": [
    "# at the beginning insertion on Dll and traversing the list\n",
    "class Node:\n",
    "    def __init__(self, data):\n",
    "        self.data = data\n",
    "        self.prev = None\n",
    "        self.next = None\n",
    "class Double_linked_list:\n",
    "    def __init__(self):\n",
    "        self.head = None\n",
    "    def iab(self,data):\n",
    "        new_node = Node(data)\n",
    "        if self.head is None:\n",
    "            self.head = new_node\n",
    "            return\n",
    "        new_node.next = self.head\n",
    "        self.head.prev = new_node\n",
    "        self.head = new_node\n",
    "    def backtraverse(self):\n",
    "        print(\"values for traversing forward....\")\n",
    "        temp = self.head\n",
    "        if not temp:\n",
    "            print(\"list is empty\")\n",
    "            return\n",
    "        while temp.next:\n",
    "            temp = temp.next\n",
    "        while temp:\n",
    "            print(temp.data,end=\"<-->\")\n",
    "            temp = temp.prev\n",
    "        print(\"None\")\n",
    "    def display(self):\n",
    "        temp=self.head\n",
    "        print(\"Double Linked List:\")\n",
    "        while temp:\n",
    "            print(temp.data, end=\"<-->\")\n",
    "            temp = temp.next\n",
    "        print(\"None\")\n",
    "dll=Double_linked_list()\n",
    "n= int(input(\"Enter the number of elements to insert at end: \")) #size\n",
    "for i in range(n):\n",
    "    val=int(input(f\"Enter the element {i+1}: \"))\n",
    "    dll.iab(val)\n",
    "dll.display()\n",
    "dll.backtraverse()"
   ]
  },
  {
   "cell_type": "code",
   "execution_count": 17,
   "id": "79c3387b-ccae-47c4-92a6-95ba5e922bdd",
   "metadata": {},
   "outputs": [
    {
     "name": "stdin",
     "output_type": "stream",
     "text": [
      "Enter the number of elements to insert at end:  4\n",
      "Enter the element 1:  1\n",
      "Enter the element 2:  2\n",
      "Enter the element 3:  3\n",
      "Enter the element 4:  4\n"
     ]
    },
    {
     "name": "stdout",
     "output_type": "stream",
     "text": [
      "Double Linked List:\n",
      "1<-->2<-->3<-->4<-->None\n",
      "values for traversing backward....\n",
      "4<-->3<-->2<-->1<-->None\n"
     ]
    }
   ],
   "source": [
    "# at the end insertion on Dll and traversing the dll\n",
    "class Node:\n",
    "    def __init__(self, data):\n",
    "        self.data = data\n",
    "        self.prev = None\n",
    "        self.next = None\n",
    "class Double_linked_list:\n",
    "    def __init__(self):\n",
    "        self.head = None\n",
    "    def iae(self,data):\n",
    "        new_node = Node(data)\n",
    "        if self.head is None:\n",
    "            self.head = new_node\n",
    "            return\n",
    "        temp= self.head\n",
    "        while temp.next:\n",
    "            temp = temp.next\n",
    "        temp.next = new_node\n",
    "        new_node.prev = temp\n",
    "    def backtraverse(self):\n",
    "        print(\"values for traversing backward....\")\n",
    "        temp = self.head\n",
    "        if not temp:\n",
    "            print(\"list is empty\")\n",
    "            return\n",
    "        while temp.next:\n",
    "            temp = temp.next\n",
    "        while temp:\n",
    "            print(temp.data,end=\"<-->\")\n",
    "            temp = temp.prev\n",
    "        print(\"None\")\n",
    "    def display(self):\n",
    "        temp=self.head\n",
    "        print(\"Double Linked List:\")\n",
    "        while temp:\n",
    "            print(temp.data, end=\"<-->\")\n",
    "            temp = temp.next\n",
    "        print(\"None\")\n",
    "dll=Double_linked_list()\n",
    "n= int(input(\"Enter the number of elements to insert at end: \")) #size\n",
    "for i in range(n):\n",
    "    val=int(input(f\"Enter the element {i+1}: \"))\n",
    "    dll.iae(val)\n",
    "dll.display()\n",
    "dll.backtraverse()"
   ]
  },
  {
   "cell_type": "code",
   "execution_count": null,
   "id": "f19ddfff-d4c2-4cd1-8c37-62316f2af767",
   "metadata": {},
   "outputs": [],
   "source": [
    "'''deleteting opertions in DLL:\n",
    "\n",
    "1.delete at begin /insert at begin\n",
    "2.delete at begin /insert at end\n",
    "3.delete at end   /insert at begin\n",
    "4.delete at end   /insert at end '''"
   ]
  },
  {
   "cell_type": "code",
   "execution_count": 39,
   "id": "d9deccf0-196b-40c0-b07b-3ac48889d4e5",
   "metadata": {},
   "outputs": [
    {
     "name": "stdin",
     "output_type": "stream",
     "text": [
      "Enter the number of elements to insert at end:  4\n",
      "Enter the element 1:  2\n",
      "Enter the element 2:  5\n",
      "Enter the element 3:  7\n",
      "Enter the element 4:  8\n"
     ]
    },
    {
     "name": "stdout",
     "output_type": "stream",
     "text": [
      "Double Linked List:\n",
      "8<-->7<-->5<-->2<-->None\n"
     ]
    },
    {
     "name": "stdin",
     "output_type": "stream",
     "text": [
      "\n",
      "how many times you want to delete at begin:  1\n"
     ]
    },
    {
     "name": "stdout",
     "output_type": "stream",
     "text": [
      "Deleted: 8\n",
      "Double Linked List:\n",
      "7<-->5<-->2<-->None\n"
     ]
    }
   ],
   "source": [
    "#1.delete at begin / insert at begin\n",
    "class Node:\n",
    "    def __init__(self, data):\n",
    "        self.data = data\n",
    "        self.prev = None\n",
    "        self.next = None\n",
    "class Double_linked_list:\n",
    "    def __init__(self):\n",
    "        self.head = None\n",
    "    def iab(self,data):\n",
    "        new_node = Node(data)\n",
    "        if self.head is None:\n",
    "            self.head = new_node\n",
    "            return\n",
    "        new_node.next = self.head\n",
    "        self.head.prev = new_node\n",
    "        self.head = new_node\n",
    "    def dab(self):\n",
    "        if self.head is None:\n",
    "            print(\"List is empty cannot perform delete operation\")\n",
    "        print(f\"Deleted: {self.head.data}\")\n",
    "        self.head = self.head.next\n",
    "        if self.head:\n",
    "            self.head.prev = None\n",
    "    def display(self):\n",
    "        temp=self.head\n",
    "        print(\"Double Linked List:\")\n",
    "        while temp:\n",
    "            print(temp.data, end=\"<-->\")\n",
    "            temp = temp.next\n",
    "        print(\"None\")\n",
    "dll=Double_linked_list()\n",
    "n= int(input(\"Enter the number of elements to insert at end: \")) #size\n",
    "for i in range(n):\n",
    "    val=int(input(f\"Enter the element {i+1}: \"))\n",
    "    dll.iab(val)\n",
    "dll.display()\n",
    "d=int(input(\"\\nhow many times you want to delete at begin: \")) #delete at begin / insert at begin\n",
    "for i in range(d):\n",
    "    dll.dab()\n",
    "    dll.display()"
   ]
  },
  {
   "cell_type": "code",
   "execution_count": 35,
   "id": "0d79db2e-7541-4864-8eb1-964549dd569b",
   "metadata": {},
   "outputs": [
    {
     "name": "stdin",
     "output_type": "stream",
     "text": [
      "Enter the number of elements to insert at end:  4\n",
      "Enter the element 1:  1\n",
      "Enter the element 2:  5\n",
      "Enter the element 3:  7\n",
      "Enter the element 4:  9\n"
     ]
    },
    {
     "name": "stdout",
     "output_type": "stream",
     "text": [
      "Double Linked List:\n",
      "1<-->5<-->7<-->9<-->None\n"
     ]
    },
    {
     "name": "stdin",
     "output_type": "stream",
     "text": [
      "\n",
      "how many times you want to delete at begin:  1\n"
     ]
    },
    {
     "name": "stdout",
     "output_type": "stream",
     "text": [
      "Deleted: 1\n",
      "Double Linked List:\n",
      "5<-->7<-->9<-->None\n"
     ]
    }
   ],
   "source": [
    "#2.delete at begin /insert at end\n",
    "class Node:\n",
    "    def __init__(self, data):\n",
    "        self.data = data\n",
    "        self.prev = None\n",
    "        self.next = None\n",
    "class Double_linked_list:\n",
    "    def __init__(self):\n",
    "        self.head = None\n",
    "    def iae(self,data):\n",
    "        new_node = Node(data)\n",
    "        if self.head is None:\n",
    "            self.head = new_node\n",
    "            return\n",
    "        temp= self.head\n",
    "        while temp.next:\n",
    "            temp = temp.next\n",
    "        temp.next = new_node\n",
    "        new_node.prev = temp\n",
    "    def dab(self):\n",
    "        if self.head is None:\n",
    "            print(\"List is empty cannot perform delete operation\")\n",
    "        print(f\"Deleted: {self.head.data}\")\n",
    "        self.head = self.head.next\n",
    "        if self.head:\n",
    "            self.head.prev = None\n",
    "    def display(self):\n",
    "        temp=self.head\n",
    "        print(\"Double Linked List:\")\n",
    "        while temp:\n",
    "            print(temp.data, end=\"<-->\")\n",
    "            temp = temp.next\n",
    "        print(\"None\")\n",
    "dll=Double_linked_list()\n",
    "n= int(input(\"Enter the number of elements to insert at end: \")) #size\n",
    "for i in range(n):\n",
    "    val=int(input(f\"Enter the element {i+1}: \"))\n",
    "    dll.iae(val)\n",
    "dll.display()\n",
    "d=int(input(\"\\nhow many times you want to delete at begin: \")) #delete at begin / insert at end\n",
    "for i in range(d):\n",
    "    dll.dab()\n",
    "    dll.display()"
   ]
  },
  {
   "cell_type": "code",
   "execution_count": 37,
   "id": "1690b8e3-44c2-4098-8595-84933cd29688",
   "metadata": {},
   "outputs": [
    {
     "name": "stdin",
     "output_type": "stream",
     "text": [
      "Enter the number of elements to insert at end:  4\n",
      "Enter the element 1:  2\n",
      "Enter the element 2:  5\n",
      "Enter the element 3:  7\n",
      "Enter the element 4:  9\n"
     ]
    },
    {
     "name": "stdout",
     "output_type": "stream",
     "text": [
      "Double Linked List:\n",
      "9<-->7<-->5<-->2<-->None\n"
     ]
    },
    {
     "name": "stdin",
     "output_type": "stream",
     "text": [
      "\n",
      " how many times you want to delete at end:  2\n"
     ]
    },
    {
     "name": "stdout",
     "output_type": "stream",
     "text": [
      "Deleted: 2\n",
      "Double Linked List:\n",
      "9<-->7<-->5<-->None\n",
      "Deleted: 5\n",
      "Double Linked List:\n",
      "9<-->7<-->None\n"
     ]
    }
   ],
   "source": [
    "#3.delete at End / insert at begin\n",
    "class Node:\n",
    "    def __init__(self, data):\n",
    "        self.data = data\n",
    "        self.prev = None\n",
    "        self.next = None\n",
    "class Double_linked_list:\n",
    "    def __init__(self):\n",
    "        self.head = None\n",
    "    def iab(self,data):\n",
    "        new_node = Node(data)\n",
    "        if self.head is None:\n",
    "            self.head = new_node\n",
    "            return\n",
    "        new_node.next = self.head\n",
    "        self.head.prev = new_node\n",
    "        self.head = new_node\n",
    "    def dae(self):\n",
    "        if self.head is None:\n",
    "            print(\"List is empty cannot perform delete operation\")\n",
    "            return\n",
    "        temp = self.head\n",
    "        while temp.next:\n",
    "            temp=temp.next\n",
    "        print(f\"Deleted: {temp.data}\")\n",
    "        if temp.prev:\n",
    "            temp.prev.next = None\n",
    "        else:\n",
    "            self.head = None\n",
    "    def display(self):\n",
    "        temp=self.head\n",
    "        print(\"Double Linked List:\")\n",
    "        while temp:\n",
    "            print(temp.data, end=\"<-->\")\n",
    "            temp = temp.next\n",
    "        print(\"None\")\n",
    "dll=Double_linked_list()\n",
    "n= int(input(\"Enter the number of elements to insert at end: \")) #size\n",
    "for i in range(n):\n",
    "    val=int(input(f\"Enter the element {i+1}: \"))\n",
    "    dll.iab(val)\n",
    "dll.display()\n",
    "d=int(input(\"\\n how many times you want to delete at end: \")) #delete at end / insert at begin\n",
    "for i in range(d):\n",
    "    dll.dae()\n",
    "    dll.display()"
   ]
  },
  {
   "cell_type": "code",
   "execution_count": 31,
   "id": "268f69c3-c8eb-4640-88c5-e57efe0b05c9",
   "metadata": {},
   "outputs": [
    {
     "name": "stdin",
     "output_type": "stream",
     "text": [
      "Enter the number of elements to insert at end:  4\n",
      "Enter the element 1:  4\n",
      "Enter the element 2:  2\n",
      "Enter the element 3:  67\n",
      "Enter the element 4:  5\n"
     ]
    },
    {
     "name": "stdout",
     "output_type": "stream",
     "text": [
      "Double Linked List:\n",
      "4<-->2<-->67<-->5<-->None\n"
     ]
    },
    {
     "name": "stdin",
     "output_type": "stream",
     "text": [
      "\n",
      " how many times you want to delete at end:  1\n"
     ]
    },
    {
     "name": "stdout",
     "output_type": "stream",
     "text": [
      "Deleted: 5\n",
      "Double Linked List:\n",
      "4<-->2<-->67<-->None\n"
     ]
    }
   ],
   "source": [
    "#4.delete at end   /insert at end \n",
    "class Node:\n",
    "    def __init__(self, data):\n",
    "        self.data = data\n",
    "        self.prev = None\n",
    "        self.next = None\n",
    "class Double_linked_list:\n",
    "    def __init__(self):\n",
    "        self.head = None\n",
    "    def iae(self,data):\n",
    "        new_node = Node(data)\n",
    "        if self.head is None:\n",
    "            self.head = new_node\n",
    "            return\n",
    "        temp= self.head\n",
    "        while temp.next:\n",
    "            temp = temp.next\n",
    "        temp.next = new_node\n",
    "        new_node.prev = temp\n",
    "    def dae(self):\n",
    "        if self.head is None:\n",
    "            print(\"List is empty cannot perform delete operation\")\n",
    "            return\n",
    "        temp = self.head\n",
    "        while temp.next:\n",
    "            temp=temp.next\n",
    "        print(f\"Deleted: {temp.data}\")\n",
    "        if temp.prev:\n",
    "            temp.prev.next = None\n",
    "        else:\n",
    "            self.head = None\n",
    "    def display(self):\n",
    "        temp=self.head\n",
    "        print(\"Double Linked List:\")\n",
    "        while temp:\n",
    "            print(temp.data, end=\"<-->\")\n",
    "            temp = temp.next\n",
    "        print(\"None\")\n",
    "dll=Double_linked_list()\n",
    "n= int(input(\"Enter the number of elements to insert at end: \")) #size\n",
    "for i in range(n):\n",
    "    val=int(input(f\"Enter the element {i+1}: \"))\n",
    "    dll.iae(val)\n",
    "dll.display()\n",
    "d=int(input(\"\\n how many times you want to delete at end: \")) #delete at end / insert at end\n",
    "for i in range(d):\n",
    "    dll.dae()\n",
    "    dll.display()"
   ]
  },
  {
   "cell_type": "code",
   "execution_count": 45,
   "id": "61be05fc-187b-4f48-9760-13c917753064",
   "metadata": {},
   "outputs": [
    {
     "name": "stdin",
     "output_type": "stream",
     "text": [
      "Enter the number of elements to insert at end:  4\n",
      "Enter the element 1:  1\n",
      "Enter the element 2:  2\n",
      "Enter the element 3:  3\n",
      "Enter the element 4:  4\n"
     ]
    },
    {
     "name": "stdout",
     "output_type": "stream",
     "text": [
      "Double Linked List:\n",
      "1<-->2<-->3<-->4<-->None\n"
     ]
    },
    {
     "name": "stdin",
     "output_type": "stream",
     "text": [
      "enter value you want to delete 2\n"
     ]
    },
    {
     "name": "stdout",
     "output_type": "stream",
     "text": [
      "Deleted:2\n",
      "Double Linked List:\n",
      "1<-->3<-->4<-->None\n"
     ]
    }
   ],
   "source": [
    "#delete by value\n",
    "class Node:\n",
    "    def __init__(self, data):\n",
    "        self.data = data\n",
    "        self.prev = None\n",
    "        self.next = None\n",
    "class Double_linked_list:\n",
    "    def __init__(self):\n",
    "        self.head = None\n",
    "    def iae(self,data):\n",
    "        new_node = Node(data)\n",
    "        if self.head is None:\n",
    "            self.head = new_node\n",
    "            return\n",
    "        temp= self.head\n",
    "        while temp.next:\n",
    "            temp = temp.next\n",
    "        temp.next = new_node\n",
    "        new_node.prev = temp\n",
    "    def dbv(self,val):\n",
    "        temp=self.head\n",
    "        while temp:\n",
    "            if temp.data == val:\n",
    "                print(f\"Deleted:{temp.data}\")\n",
    "                if temp.prev:\n",
    "                    temp.prev.next = temp.next\n",
    "                else:\n",
    "                    self.head = temp.next\n",
    "                if temp.next:\n",
    "                    temp.next.prev = temp.prev\n",
    "                return\n",
    "            temp= temp.next\n",
    "        print(\"f{value} not found in list\")\n",
    "    def display(self):\n",
    "        temp=self.head\n",
    "        print(\"Double Linked List:\")\n",
    "        while temp:\n",
    "            print(temp.data, end=\"<-->\")\n",
    "            temp = temp.next\n",
    "        print(\"None\")\n",
    "dll=Double_linked_list()\n",
    "n= int(input(\"Enter the number of elements to insert at end: \")) #size\n",
    "for i in range(n):\n",
    "    val=int(input(f\"Enter the element {i+1}: \"))\n",
    "    dll.iae(val)\n",
    "dll.display()\n",
    "key=int(input(\"enter value you want to delete\"))\n",
    "dll.dbv(key)\n",
    "dll.display()"
   ]
  },
  {
   "cell_type": "code",
   "execution_count": 47,
   "id": "c15187bf-1471-438f-b691-1ed56ac4103e",
   "metadata": {},
   "outputs": [
    {
     "name": "stdin",
     "output_type": "stream",
     "text": [
      "Enter the number of elements to insert at end:  4\n",
      "Enter the element 1:  1\n",
      "Enter the element 2:  2\n",
      "Enter the element 3:  3\n",
      "Enter the element 4:  4\n"
     ]
    },
    {
     "name": "stdout",
     "output_type": "stream",
     "text": [
      "Double Linked List:\n",
      "1<-->2<-->3<-->4<-->None\n"
     ]
    },
    {
     "name": "stdin",
     "output_type": "stream",
     "text": [
      "\n",
      " how many times you want to delete  2\n",
      "enter value you want to delete: 1\n"
     ]
    },
    {
     "name": "stdout",
     "output_type": "stream",
     "text": [
      "Deleted:1\n",
      "Double Linked List:\n",
      "2<-->3<-->4<-->None\n"
     ]
    },
    {
     "name": "stdin",
     "output_type": "stream",
     "text": [
      "enter value you want to delete: 3\n"
     ]
    },
    {
     "name": "stdout",
     "output_type": "stream",
     "text": [
      "Deleted:3\n",
      "Double Linked List:\n",
      "2<-->4<-->None\n"
     ]
    }
   ],
   "source": [
    "#delete by value\n",
    "class Node:\n",
    "    def __init__(self, data):\n",
    "        self.data = data\n",
    "        self.prev = None\n",
    "        self.next = None\n",
    "class Double_linked_list:\n",
    "    def __init__(self):\n",
    "        self.head = None\n",
    "    def iae(self,data):\n",
    "        new_node = Node(data)\n",
    "        if self.head is None:\n",
    "            self.head = new_node\n",
    "            return\n",
    "        temp= self.head\n",
    "        while temp.next:\n",
    "            temp = temp.next\n",
    "        temp.next = new_node\n",
    "        new_node.prev = temp\n",
    "    def dbv(self,val):\n",
    "        temp=self.head\n",
    "        while temp:\n",
    "            if temp.data == val:\n",
    "                print(f\"Deleted:{temp.data}\")\n",
    "                if temp.prev:\n",
    "                    temp.prev.next = temp.next\n",
    "                else:\n",
    "                    self.head = temp.next\n",
    "                if temp.next:\n",
    "                    temp.next.prev = temp.prev\n",
    "                return\n",
    "            temp= temp.next\n",
    "        print(\"f{value} not found in list\")\n",
    "    def display(self):\n",
    "        temp=self.head\n",
    "        print(\"Double Linked List:\")\n",
    "        while temp:\n",
    "            print(temp.data, end=\"<-->\")\n",
    "            temp = temp.next\n",
    "        print(\"None\")\n",
    "dll=Double_linked_list()\n",
    "n= int(input(\"Enter the number of elements to insert at end: \")) #size\n",
    "for i in range(n):\n",
    "    val=int(input(f\"Enter the element {i+1}: \"))\n",
    "    dll.iae(val)\n",
    "dll.display()\n",
    "d=int(input(\"\\n how many times you want to delete \"))\n",
    "for i in range(d):\n",
    "    key=int(input(\"enter value you want to delete:\"))\n",
    "    dll.dbv(key)\n",
    "    dll.display()"
   ]
  },
  {
   "cell_type": "code",
   "execution_count": null,
   "id": "4905c270-3ffa-46cb-8c64-1b7167fe8b49",
   "metadata": {},
   "outputs": [],
   "source": []
  }
 ],
 "metadata": {
  "kernelspec": {
   "display_name": "Python 3 (ipykernel)",
   "language": "python",
   "name": "python3"
  },
  "language_info": {
   "codemirror_mode": {
    "name": "ipython",
    "version": 3
   },
   "file_extension": ".py",
   "mimetype": "text/x-python",
   "name": "python",
   "nbconvert_exporter": "python",
   "pygments_lexer": "ipython3",
   "version": "3.12.7"
  }
 },
 "nbformat": 4,
 "nbformat_minor": 5
}
