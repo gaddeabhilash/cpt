{
 "cells": [
  {
   "cell_type": "code",
   "execution_count": 7,
   "id": "900a7822",
   "metadata": {},
   "outputs": [
    {
     "name": "stdout",
     "output_type": "stream",
     "text": [
      " flip at 6:[1, 7, 3, 6, 2, 8]\n",
      " flip at 2:[7, 1, 3, 6, 2, 8]\n",
      " flip at 5:[2, 6, 3, 1, 7, 8]\n",
      " flip at 2:[6, 2, 3, 1, 7, 8]\n",
      " flip at 4:[1, 3, 2, 6, 7, 8]\n",
      " flip at 2:[3, 1, 2, 6, 7, 8]\n",
      " flip at 3:[2, 1, 3, 6, 7, 8]\n",
      " flip at 2:[1, 2, 3, 6, 7, 8]\n",
      "sorted [1, 2, 3, 6, 7, 8]\n"
     ]
    }
   ],
   "source": [
    "'''algo:\n",
    "1.start complete array and decrease the size(n-1)\n",
    "2.for each size:\n",
    "a.find the index of max element\n",
    "b,flip the array with max element index\n",
    "c.flip the total array to the current size\n",
    "max->move to the end of the array\n",
    "3.repeat step  1 by n-2,n-3......\n",
    "for n th reduced element perform step 2 until 0th index value respectively......\n",
    "'''\n",
    "def flip(arr,k):\n",
    "    return arr[:k+1][::-1]+ arr[k+1:]\n",
    "def pancake(arr):\n",
    "    n=len(arr)\n",
    "    for size in range(n,1,-1):\n",
    "        max_index=arr.index(max(arr[:size]))\n",
    "        if max_index !=size-1:\n",
    "            if max_index !=0:\n",
    "                arr=flip(arr,max_index)\n",
    "                print(f\" flip at {max_index+1}:{arr}\")\n",
    "            arr=flip(arr, size-1)\n",
    "            print(f\" flip at {size}:{arr}\")\n",
    "    return arr\n",
    "            \n",
    "nums=list(map(int,input(\"enter numbers seperated with space\").split()))\n",
    "sorted_nums=pancake(nums)\n",
    "print(\"sorted\", sorted_nums)"
   ]
  }
 ],
 "metadata": {
  "kernelspec": {
   "display_name": "base",
   "language": "python",
   "name": "python3"
  },
  "language_info": {
   "codemirror_mode": {
    "name": "ipython",
    "version": 3
   },
   "file_extension": ".py",
   "mimetype": "text/x-python",
   "name": "python",
   "nbconvert_exporter": "python",
   "pygments_lexer": "ipython3",
   "version": "3.12.7"
  }
 },
 "nbformat": 4,
 "nbformat_minor": 5
}
