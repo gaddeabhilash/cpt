{
 "cells": [
  {
   "cell_type": "code",
   "execution_count": 5,
   "id": "8ae5caf9-418a-490e-884e-9b3e541d725f",
   "metadata": {},
   "outputs": [
    {
     "name": "stdout",
     "output_type": "stream",
     "text": [
      "Name:Abhi,RollNo:44\n",
      "Name:Achu,RollNo:6\n"
     ]
    }
   ],
   "source": [
    "#basic constructor usage __init__\n",
    "#automatically runs a method where a new oject is created\n",
    "class student:\n",
    "    def __init__(self,name,num):\n",
    "        self.name=name\n",
    "        self.num=num\n",
    "    def display(self):\n",
    "        print(f\"Name:{self.name},RollNo:{self.num}\")\n",
    "s1=student('Abhi',44)\n",
    "s2=student('Achu',6)\n",
    "s1.display()\n",
    "s2.display()"
   ]
  },
  {
   "cell_type": "code",
   "execution_count": null,
   "id": "6898e80e-cc73-462d-9609-1191c6b2292b",
   "metadata": {},
   "outputs": [
    {
     "name": "stdout",
     "output_type": "stream",
     "text": [
      "area of rectanlge is: 20\n",
      "perimeter of rectangle is : 18\n"
     ]
    }
   ],
   "source": [
    "''' code for calculating the area and perimeter of a rectangle by taking a\n",
    "user defined input as an object and class as rectangle , return the values to display'''\n",
    "class rectangle:\n",
    "    def __init__(self,l,b):\n",
    "        self.l=l\n",
    "        self.b=b\n",
    "    def area(self):\n",
    "        return self.l* self.b\n",
    "    def peri(self):\n",
    "        return 2*self.b + 2*self.l\n",
    "l=int(input(\"enter length:\"))\n",
    "b=int(input(\"enter breadth:\"))\n",
    "r=rectangle(l,b)\n",
    "print(\"area of rectanlge is:\" ,r.area())\n",
    "print(\"perimeter of rectangle is :\" ,r.peri())"
   ]
  },
  {
   "cell_type": "code",
   "execution_count": 2,
   "id": "b46c5fce",
   "metadata": {},
   "outputs": [
    {
     "name": "stdout",
     "output_type": "stream",
     "text": [
      "var: 1100\n"
     ]
    }
   ],
   "source": [
    "# calling a method from another method in a single class\n",
    "class abc:\n",
    "    def __init__(self, var):\n",
    "        self.var=var\n",
    "    def display(self):\n",
    "        print(\"var:\", self.var)\n",
    "    def call(self):\n",
    "        self.var+=1000\n",
    "        self.display()\n",
    "odj=abc(100)\n",
    "odj.call()"
   ]
  },
  {
   "cell_type": "code",
   "execution_count": 4,
   "id": "07a39150",
   "metadata": {},
   "outputs": [
    {
     "name": "stdout",
     "output_type": "stream",
     "text": [
      "var: 10\n",
      "var: 100\n"
     ]
    }
   ],
   "source": [
    "# code for a class method to call a function which is defined in  global name space\n",
    "def globe(x):\n",
    "    return x*10\n",
    "class abc():\n",
    "    def __init__(self, var):\n",
    "        self.var=var\n",
    "    def display(self):\n",
    "        print(\"var:\",self.var)\n",
    "    def modify(self):\n",
    "        self.var=globe(self.var)\n",
    "obj=abc(10)\n",
    "obj.display()\n",
    "obj.modify()\n",
    "obj.display()\n"
   ]
  },
  {
   "cell_type": "code",
   "execution_count": 14,
   "id": "05357a82",
   "metadata": {},
   "outputs": [
    {
     "name": "stdout",
     "output_type": "stream",
     "text": [
      "Abhi got [44, 34, 34]\n",
      "Achu got [34, 34, 34]\n"
     ]
    }
   ],
   "source": [
    "''' program that uses class as student to store the name and marks\n",
    "of the student , use a list to store the marks of 3 subjects .\n",
    "constraints :\n",
    "1. take class as student \n",
    "2. create a constructor for the student name \n",
    "3. create a function for marks , to be entered manully with in thet class\n",
    "function and add the marks to the list \n",
    "4. display then student name and the marks he/she got\n",
    "5. pass the object's attributes of two stdent names \n",
    "tc :\n",
    "obj1: \"vijay\"\n",
    "obj2: \"Anil\"\n",
    "\n",
    "output : vijay got [88,88,90]'''\n",
    "class student():\n",
    "    def __init__(self,name):\n",
    "        self.name=name\n",
    "        self.marks=[]\n",
    "    def emarks(self):\n",
    "        for i in range(3):\n",
    "            m=int(input(\"enter %s marks %d\" %(self.name,i+1)))\n",
    "            self.marks.append(m)\n",
    "    def display(self):\n",
    "        print(self.name,\"got\",self.marks,)\n",
    "s1=student(\"Abhi\")\n",
    "s1.emarks()\n",
    "s2=student(\"Achu\")\n",
    "s2.emarks()\n",
    "s1.display()\n",
    "s2.display()\n",
    "\n",
    "\n",
    "        "
   ]
  }
 ],
 "metadata": {
  "kernelspec": {
   "display_name": "Python 3",
   "language": "python",
   "name": "python3"
  },
  "language_info": {
   "codemirror_mode": {
    "name": "ipython",
    "version": 3
   },
   "file_extension": ".py",
   "mimetype": "text/x-python",
   "name": "python",
   "nbconvert_exporter": "python",
   "pygments_lexer": "ipython3",
   "version": "3.13.0"
  }
 },
 "nbformat": 4,
 "nbformat_minor": 5
}
