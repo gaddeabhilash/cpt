{
 "cells": [
  {
   "cell_type": "code",
   "execution_count": null,
   "id": "bf375526-b35b-4759-be5d-cd2ebb327273",
   "metadata": {},
   "outputs": [],
   "source": [
    "'''\n",
    "Linked lists:\n",
    "non contagious ds\n",
    "memory allocate\n",
    "access\n",
    "\n",
    "1. Single LL\n",
    "2. Double LL\n",
    "3.Circular s/d LL\n",
    "\n",
    "head---> node1--->node2----> tail/null\n",
    "\n",
    "class node:\n",
    "    def __init__(self, data):\n",
    "            self.data=data\n",
    "            self.next=None\n",
    "\n",
    "Insertion\n",
    "1.At begin\n",
    "2.At end\n",
    "3.At location  \n",
    "\n",
    "Deleting operations\n",
    "1.At end\n",
    "2.At beginning\n",
    "3.By value\n",
    "'''"
   ]
  },
  {
   "cell_type": "code",
   "execution_count": 1,
   "id": "c3710da8-a9bb-44b6-9a11-ffe997ae53fb",
   "metadata": {},
   "outputs": [
    {
     "name": "stdout",
     "output_type": "stream",
     "text": [
      "\n",
      " LinkedList- Insert At begin....\n",
      "1. Insert\n",
      "2. Display\n",
      "3. Exit\n"
     ]
    },
    {
     "name": "stdin",
     "output_type": "stream",
     "text": [
      "Enter your choice: 1\n",
      "Enter a value to insert: 22\n"
     ]
    },
    {
     "name": "stdout",
     "output_type": "stream",
     "text": [
      "22 Inserted from begin.\n",
      "\n",
      " LinkedList- Insert At begin....\n",
      "1. Insert\n",
      "2. Display\n",
      "3. Exit\n"
     ]
    },
    {
     "name": "stdin",
     "output_type": "stream",
     "text": [
      "Enter your choice: 1\n",
      "Enter a value to insert: 33\n"
     ]
    },
    {
     "name": "stdout",
     "output_type": "stream",
     "text": [
      "33 Inserted from begin.\n",
      "\n",
      " LinkedList- Insert At begin....\n",
      "1. Insert\n",
      "2. Display\n",
      "3. Exit\n"
     ]
    },
    {
     "name": "stdin",
     "output_type": "stream",
     "text": [
      "Enter your choice: 1\n",
      "Enter a value to insert: 44\n"
     ]
    },
    {
     "name": "stdout",
     "output_type": "stream",
     "text": [
      "44 Inserted from begin.\n",
      "\n",
      " LinkedList- Insert At begin....\n",
      "1. Insert\n",
      "2. Display\n",
      "3. Exit\n"
     ]
    },
    {
     "name": "stdin",
     "output_type": "stream",
     "text": [
      "Enter your choice: 2\n"
     ]
    },
    {
     "name": "stdout",
     "output_type": "stream",
     "text": [
      "44---33---22---None\n",
      "\n",
      " LinkedList- Insert At begin....\n",
      "1. Insert\n",
      "2. Display\n",
      "3. Exit\n"
     ]
    },
    {
     "name": "stdin",
     "output_type": "stream",
     "text": [
      "Enter your choice: 3\n"
     ]
    },
    {
     "name": "stdout",
     "output_type": "stream",
     "text": [
      "Exit the operation\n"
     ]
    }
   ],
   "source": [
    "'''Insertion\n",
    "1.At begin '''\n",
    "class Node:\n",
    "    def __init__(self,data):\n",
    "        self.data=data\n",
    "        self.next=None\n",
    "class Linkedlist:\n",
    "    def __init__(self):\n",
    "        self.head=None\n",
    "    def iab(self,data):\n",
    "        newnode=Node(data)\n",
    "        newnode.next=self.head\n",
    "        self.head=newnode\n",
    "        print(f\"{data} Inserted from begin.\")\n",
    "    def display(self):\n",
    "        current = self.head\n",
    "        if not current:\n",
    "            print(\"LL-Empty\")\n",
    "            return\n",
    "        while current:\n",
    "            print(current.data, end='---')\n",
    "            current = current.next\n",
    "        print(\"None\")\n",
    "\n",
    "l1=Linkedlist()\n",
    "while True:\n",
    "    print(\"\\n LinkedList- Insert At begin....\")\n",
    "    print(\"1. Insert\")\n",
    "    print(\"2. Display\")\n",
    "    print(\"3. Exit\")\n",
    "    choice=input(\"Enter your choice:\")\n",
    "    if choice=='1':\n",
    "        data=int(input(\"Enter a value to insert:\"))\n",
    "        l1.iab(data)\n",
    "    elif choice=='2':\n",
    "        l1.display()\n",
    "    elif choice=='3':\n",
    "        print(\"Exit the operation\")\n",
    "        break\n",
    "    else:\n",
    "        print(\"Enter only ..\")"
   ]
  },
  {
   "cell_type": "code",
   "execution_count": 3,
   "id": "1c255e0e-9dd0-4fb1-8996-bf41b8be4b97",
   "metadata": {},
   "outputs": [
    {
     "name": "stdout",
     "output_type": "stream",
     "text": [
      "\n",
      " LinkedList- Insert At begin....\n",
      "1. Insert\n",
      "2. Display\n",
      "3. Exit\n"
     ]
    },
    {
     "name": "stdin",
     "output_type": "stream",
     "text": [
      "Enter your choice: 1\n",
      "Enter a value to insert: 22\n"
     ]
    },
    {
     "name": "stdout",
     "output_type": "stream",
     "text": [
      "22 inserted at end / will br first node\n",
      "\n",
      " LinkedList- Insert At begin....\n",
      "1. Insert\n",
      "2. Display\n",
      "3. Exit\n"
     ]
    },
    {
     "name": "stdin",
     "output_type": "stream",
     "text": [
      "Enter your choice: 1\n",
      "Enter a value to insert: 33\n"
     ]
    },
    {
     "name": "stdout",
     "output_type": "stream",
     "text": [
      "33 inserted last\n",
      "\n",
      " LinkedList- Insert At begin....\n",
      "1. Insert\n",
      "2. Display\n",
      "3. Exit\n"
     ]
    },
    {
     "name": "stdin",
     "output_type": "stream",
     "text": [
      "Enter your choice: 1\n",
      "Enter a value to insert: 44\n"
     ]
    },
    {
     "name": "stdout",
     "output_type": "stream",
     "text": [
      "44 inserted last\n",
      "\n",
      " LinkedList- Insert At begin....\n",
      "1. Insert\n",
      "2. Display\n",
      "3. Exit\n"
     ]
    },
    {
     "name": "stdin",
     "output_type": "stream",
     "text": [
      "Enter your choice: 2\n"
     ]
    },
    {
     "name": "stdout",
     "output_type": "stream",
     "text": [
      "22---33---44---None\n",
      "\n",
      " LinkedList- Insert At begin....\n",
      "1. Insert\n",
      "2. Display\n",
      "3. Exit\n"
     ]
    },
    {
     "name": "stdin",
     "output_type": "stream",
     "text": [
      "Enter your choice: 3\n"
     ]
    },
    {
     "name": "stdout",
     "output_type": "stream",
     "text": [
      "Exit the operation\n"
     ]
    }
   ],
   "source": [
    "'''Insertion\n",
    "1.At End '''\n",
    "class Node:\n",
    "    def __init__(self,data):\n",
    "        self.data=data\n",
    "        self.next=None\n",
    "class Linkedlist:\n",
    "    def __init__(self):\n",
    "        self.head=None\n",
    "    def iae(self,data):\n",
    "        newnode=Node(data)\n",
    "        if self.head is None:\n",
    "            self.head=newnode\n",
    "            print(f\"{data} inserted at end / will br first node\")\n",
    "            return\n",
    "        current=self.head\n",
    "        while current.next:\n",
    "            current=current.next\n",
    "        current.next=newnode\n",
    "        print(f\"{data} inserted last\")\n",
    "    def display(self):\n",
    "        current = self.head\n",
    "        if not current:\n",
    "            print(\"LL-Empty\")\n",
    "            return\n",
    "        while current:\n",
    "            print(current.data, end='---')\n",
    "            current = current.next\n",
    "        print(\"None\")\n",
    "\n",
    "l1=Linkedlist()\n",
    "while True:\n",
    "    print(\"\\n LinkedList- Insert At begin....\")\n",
    "    print(\"1. Insert\")\n",
    "    print(\"2. Display\")\n",
    "    print(\"3. Exit\")\n",
    "    choice=input(\"Enter your choice:\")\n",
    "    if choice=='1':\n",
    "        data=int(input(\"Enter a value to insert:\"))\n",
    "        l1.iae(data)\n",
    "    elif choice=='2':\n",
    "        l1.display()\n",
    "    elif choice=='3':\n",
    "        print(\"Exit the operation\")\n",
    "        break\n",
    "    else:\n",
    "        print(\"Enter only ..\")"
   ]
  },
  {
   "cell_type": "code",
   "execution_count": 9,
   "id": "c0cd1b41-3d0d-47d0-91bf-2428256c0560",
   "metadata": {},
   "outputs": [
    {
     "name": "stdout",
     "output_type": "stream",
     "text": [
      "\n",
      " LinkedList- Insert at end...\n",
      "1.lnsert\n",
      "2.display\n",
      "3.Exit\n"
     ]
    },
    {
     "name": "stdin",
     "output_type": "stream",
     "text": [
      "enter your  choice: 1\n",
      "enter a value to insert: 11\n",
      "enter position starting from 1: 1\n"
     ]
    },
    {
     "name": "stdout",
     "output_type": "stream",
     "text": [
      "11 insert at pos-1\n",
      "\n",
      " LinkedList- Insert at end...\n",
      "1.lnsert\n",
      "2.display\n",
      "3.Exit\n"
     ]
    },
    {
     "name": "stdin",
     "output_type": "stream",
     "text": [
      "enter your  choice: 1\n",
      "enter a value to insert: 22\n",
      "enter position starting from 1: 1\n"
     ]
    },
    {
     "name": "stdout",
     "output_type": "stream",
     "text": [
      "22 insert at pos-1\n",
      "\n",
      " LinkedList- Insert at end...\n",
      "1.lnsert\n",
      "2.display\n",
      "3.Exit\n"
     ]
    },
    {
     "name": "stdin",
     "output_type": "stream",
     "text": [
      "enter your  choice: 2\n"
     ]
    },
    {
     "name": "stdout",
     "output_type": "stream",
     "text": [
      "22---11---None\n",
      "\n",
      " LinkedList- Insert at end...\n",
      "1.lnsert\n",
      "2.display\n",
      "3.Exit\n"
     ]
    },
    {
     "name": "stdin",
     "output_type": "stream",
     "text": [
      "enter your  choice: \n"
     ]
    },
    {
     "name": "stdout",
     "output_type": "stream",
     "text": [
      "enter only ...1,2,3\n",
      "\n",
      " LinkedList- Insert at end...\n",
      "1.lnsert\n",
      "2.display\n",
      "3.Exit\n"
     ]
    },
    {
     "name": "stdin",
     "output_type": "stream",
     "text": [
      "enter your  choice: 3\n"
     ]
    },
    {
     "name": "stdout",
     "output_type": "stream",
     "text": [
      "exit the operation...\n"
     ]
    }
   ],
   "source": [
    "class Node:\n",
    "    def __init__(self,data):\n",
    "        self.data=data\n",
    "        self.next=None\n",
    "class LinkedList:\n",
    "    def __init__(self):\n",
    "        self.head=None\n",
    "    def iap(self,data,pos):\n",
    "        newnode=Node(data)\n",
    "        if pos<=0:\n",
    "            print(\"position min>=1\")\n",
    "        if pos==1:\n",
    "            newnode.next=self.head\n",
    "            self.head=newnode\n",
    "            print(f\"{data} insert at pos-1\")\n",
    "            return\n",
    "        current=self.head\n",
    "        c=1\n",
    "        while current and c < pos-1:\n",
    "            current=current.next\n",
    "            c+=1\n",
    "        if not current:\n",
    "            print(\"not in  range...\")\n",
    "            return\n",
    "        newnode.next=current.next\n",
    "        current.next=newnode\n",
    "        print(f\"{data} inserted at position{pos}.\")\n",
    "    def display(self):\n",
    "        current=self.head\n",
    "        if not current:\n",
    "            print(\"LL-empty\")\n",
    "            return \n",
    "        while current:\n",
    "             print(current.data,end='---')\n",
    "             current=current.next\n",
    "        print(\"None\")    \n",
    "ll=LinkedList()\n",
    "while True:\n",
    "    print(\"\\n LinkedList- Insert at end...\")\n",
    "    print(\"1.lnsert\")\n",
    "    print(\"2.display\")\n",
    "    print(\"3.Exit\")\n",
    "    choice=input(\"enter your  choice:\")\n",
    "    if choice=='1':\n",
    "        data=int(input(\"enter a value to insert:\"))\n",
    "        pos=int(input(\"enter position starting from 1:\"))\n",
    "        ll.iap(data,pos)\n",
    "    elif choice=='2':\n",
    "        ll.display()\n",
    "    elif choice=='3':\n",
    "        print(\"exit the operation...\")\n",
    "        break\n",
    "    else:\n",
    "        print(\"enter only ...1,2,3\")"
   ]
  },
  {
   "cell_type": "code",
   "execution_count": 11,
   "id": "d35d82eb-d694-412f-8e42-f9477ea28fb6",
   "metadata": {},
   "outputs": [
    {
     "name": "stdout",
     "output_type": "stream",
     "text": [
      "\n",
      "LinkedList Operations:\n",
      "1. Insert\n",
      "2. Display\n",
      "3. Search\n",
      "4. Exit\n"
     ]
    },
    {
     "name": "stdin",
     "output_type": "stream",
     "text": [
      "Enter your choice: 1\n",
      "Enter a value to insert:  11\n"
     ]
    },
    {
     "name": "stdout",
     "output_type": "stream",
     "text": [
      "11 Inserted from beginning.\n",
      "\n",
      "LinkedList Operations:\n",
      "1. Insert\n",
      "2. Display\n",
      "3. Search\n",
      "4. Exit\n"
     ]
    },
    {
     "name": "stdin",
     "output_type": "stream",
     "text": [
      "Enter your choice: 1\n",
      "Enter a value to insert:  22\n"
     ]
    },
    {
     "name": "stdout",
     "output_type": "stream",
     "text": [
      "22 Inserted from beginning.\n",
      "\n",
      "LinkedList Operations:\n",
      "1. Insert\n",
      "2. Display\n",
      "3. Search\n",
      "4. Exit\n"
     ]
    },
    {
     "name": "stdin",
     "output_type": "stream",
     "text": [
      "Enter your choice: 1\n",
      "Enter a value to insert:  33\n"
     ]
    },
    {
     "name": "stdout",
     "output_type": "stream",
     "text": [
      "33 Inserted from beginning.\n",
      "\n",
      "LinkedList Operations:\n",
      "1. Insert\n",
      "2. Display\n",
      "3. Search\n",
      "4. Exit\n"
     ]
    },
    {
     "name": "stdin",
     "output_type": "stream",
     "text": [
      "Enter your choice: 2\n"
     ]
    },
    {
     "name": "stdout",
     "output_type": "stream",
     "text": [
      "33---22---11---None\n",
      "\n",
      "LinkedList Operations:\n",
      "1. Insert\n",
      "2. Display\n",
      "3. Search\n",
      "4. Exit\n"
     ]
    },
    {
     "name": "stdin",
     "output_type": "stream",
     "text": [
      "Enter your choice: \n"
     ]
    },
    {
     "name": "stdout",
     "output_type": "stream",
     "text": [
      "Enter only 1, 2, 3, or 4.\n",
      "\n",
      "LinkedList Operations:\n",
      "1. Insert\n",
      "2. Display\n",
      "3. Search\n",
      "4. Exit\n"
     ]
    },
    {
     "name": "stdin",
     "output_type": "stream",
     "text": [
      "Enter your choice: 3\n",
      "Enter value to search:  22\n"
     ]
    },
    {
     "name": "stdout",
     "output_type": "stream",
     "text": [
      "Value 22 found at position 2.\n",
      "\n",
      "LinkedList Operations:\n",
      "1. Insert\n",
      "2. Display\n",
      "3. Search\n",
      "4. Exit\n"
     ]
    },
    {
     "name": "stdin",
     "output_type": "stream",
     "text": [
      "Enter your choice: 4\n"
     ]
    },
    {
     "name": "stdout",
     "output_type": "stream",
     "text": [
      "Exit the operation\n"
     ]
    }
   ],
   "source": [
    "class Node:\n",
    "    def __init__(self, data):\n",
    "        self.data = data\n",
    "        self.next = None\n",
    "\n",
    "class Linkedlist:\n",
    "    def __init__(self):\n",
    "        self.head = None\n",
    "    def iab(self, data):\n",
    "        newnode = Node(data)\n",
    "        newnode.next = self.head\n",
    "        self.head = newnode\n",
    "        print(f\"{data} Inserted from beginning.\")\n",
    "    def display(self):\n",
    "        current=self.head\n",
    "        if not current:\n",
    "            print(\"LL-empty\")\n",
    "            return \n",
    "        while current:\n",
    "             print(current.data,end='---')\n",
    "             current=current.next\n",
    "        print(\"None\") \n",
    "    def search(self, key):\n",
    "        current = self.head\n",
    "        pos = 1\n",
    "        while current:\n",
    "            if current.data == key:\n",
    "                print(f\"Value {key} found at position {pos}.\")\n",
    "                return pos\n",
    "            current = current.next\n",
    "            pos += 1\n",
    "        print(f\"Value {key} not found in the list.\")\n",
    "        return -1\n",
    "\n",
    "l1 = Linkedlist()\n",
    "\n",
    "while True:\n",
    "    print(\"\\nLinkedList Operations:\")\n",
    "    print(\"1. Insert\")\n",
    "    print(\"2. Display\")\n",
    "    print(\"3. Search\")\n",
    "    print(\"4. Exit\")\n",
    "    choice = input(\"Enter your choice:\")\n",
    "\n",
    "    if choice == '1':\n",
    "        try:\n",
    "            data = int(input(\"Enter a value to insert: \"))\n",
    "            l1.iab(data)\n",
    "        except ValueError:\n",
    "            print(\"Please enter a valid integer.\")\n",
    "    elif choice == '2':\n",
    "        l1.display()\n",
    "    elif choice == '3':\n",
    "        try:\n",
    "            key = int(input(\"Enter value to search: \"))\n",
    "            l1.search(key)\n",
    "        except ValueError:\n",
    "            print(\"Please enter a valid integer.\")\n",
    "    elif choice == '4':\n",
    "        print(\"Exit the operation\")\n",
    "        break\n",
    "    else:\n",
    "        print(\"Enter only 1, 2, 3, or 4.\")"
   ]
  },
  {
   "cell_type": "code",
   "execution_count": 15,
   "id": "7cf50489-ecf6-4e86-92a7-dd350834ef69",
   "metadata": {},
   "outputs": [
    {
     "name": "stdout",
     "output_type": "stream",
     "text": [
      "\n",
      " LinkedList- Insert At end....\n",
      "1. Insert\n",
      "2. Display\n",
      "3. Delete\n",
      "4. Exit\n"
     ]
    },
    {
     "name": "stdin",
     "output_type": "stream",
     "text": [
      "Enter your choice: 1\n",
      "Enter a value to insert: 11\n"
     ]
    },
    {
     "name": "stdout",
     "output_type": "stream",
     "text": [
      "11 inserted at end / will br first node\n",
      "\n",
      " LinkedList- Insert At end....\n",
      "1. Insert\n",
      "2. Display\n",
      "3. Delete\n",
      "4. Exit\n"
     ]
    },
    {
     "name": "stdin",
     "output_type": "stream",
     "text": [
      "Enter your choice: 1\n",
      "Enter a value to insert: 22\n"
     ]
    },
    {
     "name": "stdout",
     "output_type": "stream",
     "text": [
      "22 inserted last\n",
      "\n",
      " LinkedList- Insert At end....\n",
      "1. Insert\n",
      "2. Display\n",
      "3. Delete\n",
      "4. Exit\n"
     ]
    },
    {
     "name": "stdin",
     "output_type": "stream",
     "text": [
      "Enter your choice: 2\n"
     ]
    },
    {
     "name": "stdout",
     "output_type": "stream",
     "text": [
      "11---22---None\n",
      "\n",
      " LinkedList- Insert At end....\n",
      "1. Insert\n",
      "2. Display\n",
      "3. Delete\n",
      "4. Exit\n"
     ]
    },
    {
     "name": "stdin",
     "output_type": "stream",
     "text": [
      "Enter your choice: 3\n",
      "enter value you want to delete 22\n"
     ]
    },
    {
     "name": "stdout",
     "output_type": "stream",
     "text": [
      "22 deleted\n",
      "\n",
      " LinkedList- Insert At end....\n",
      "1. Insert\n",
      "2. Display\n",
      "3. Delete\n",
      "4. Exit\n"
     ]
    },
    {
     "name": "stdin",
     "output_type": "stream",
     "text": [
      "Enter your choice: 2\n"
     ]
    },
    {
     "name": "stdout",
     "output_type": "stream",
     "text": [
      "11---None\n",
      "\n",
      " LinkedList- Insert At end....\n",
      "1. Insert\n",
      "2. Display\n",
      "3. Delete\n",
      "4. Exit\n"
     ]
    },
    {
     "name": "stdin",
     "output_type": "stream",
     "text": [
      "Enter your choice: 4\n"
     ]
    },
    {
     "name": "stdout",
     "output_type": "stream",
     "text": [
      "Exit the operation\n"
     ]
    }
   ],
   "source": [
    "'''\n",
    "Deleting operations\n",
    "1.At end\n",
    "2.At beginning\n",
    "3.By value\n",
    "'''\n",
    "''' delete operation by value '''\n",
    "\n",
    "class Node:\n",
    "    def __init__(self,data):\n",
    "        self.data=data\n",
    "        self.next=None\n",
    "class Linkedlist:\n",
    "    def __init__(self):\n",
    "        self.head=None\n",
    "    def iae(self,data):\n",
    "        newnode=Node(data)\n",
    "        if self.head is None:\n",
    "            self.head=newnode\n",
    "            print(f\"{data} inserted at end / will br first node\")\n",
    "            return\n",
    "        current=self.head\n",
    "        while current.next:\n",
    "            current=current.next\n",
    "        current.next=newnode\n",
    "        print(f\"{data} inserted last\")\n",
    "    def display(self):\n",
    "        current=self.head\n",
    "        if not current:\n",
    "            print(\"LL-empty\")\n",
    "            return \n",
    "        while current:\n",
    "             print(current.data,end='---')\n",
    "             current=current.next\n",
    "        print(\"None\") \n",
    "\n",
    "    def deletevalue(self,key):\n",
    "        current=self.head\n",
    "        if not current:\n",
    "            print(\"LL-empty\")\n",
    "            return\n",
    "        if current.data==key:\n",
    "            self.head=current.next\n",
    "            print(f\"{key} deleted\")\n",
    "            return\n",
    "        previous=None\n",
    "        while current and current.data!=key:\n",
    "            previous=current\n",
    "            current=current.next\n",
    "        if not current:\n",
    "            print(f\"{key} not found\")\n",
    "            return\n",
    "        previous.next=current.next\n",
    "        print(f\"{key} deleted\")\n",
    "l1=Linkedlist()\n",
    "while True:\n",
    "    print(\"\\n LinkedList- Insert At end....\")\n",
    "    print(\"1. Insert\")\n",
    "    print(\"2. Display\")\n",
    "    print(\"3. Delete\")\n",
    "    print(\"4. Exit\")\n",
    "    choice=input(\"Enter your choice:\")\n",
    "    if choice=='1':\n",
    "        data=int(input(\"Enter a value to insert:\"))\n",
    "        l1.iae(data)\n",
    "    elif choice=='2':\n",
    "        l1.display()\n",
    "    elif choice=='3':\n",
    "        key=int(input(\"enter value you want to delete\"))\n",
    "        l1.deletevalue(key)\n",
    "    elif choice=='4':\n",
    "        print(\"Exit the operation\")\n",
    "        break\n",
    "    else:\n",
    "        print(\"Enter only ..\")"
   ]
  },
  {
   "cell_type": "code",
   "execution_count": 5,
   "id": "8c84d17b-7383-46a8-920c-f7b4c7c2c13b",
   "metadata": {},
   "outputs": [
    {
     "name": "stdout",
     "output_type": "stream",
     "text": [
      "\n",
      " LinkedList- Insert At end....\n",
      "1. Insert\n",
      "2. Display\n",
      "3. Delete\n",
      "4. Exit\n"
     ]
    },
    {
     "name": "stdin",
     "output_type": "stream",
     "text": [
      "Enter your choice: 1\n",
      "Enter a value to insert: 11\n"
     ]
    },
    {
     "name": "stdout",
     "output_type": "stream",
     "text": [
      "11 inserted at end / will br first node\n",
      "\n",
      " LinkedList- Insert At end....\n",
      "1. Insert\n",
      "2. Display\n",
      "3. Delete\n",
      "4. Exit\n"
     ]
    },
    {
     "name": "stdin",
     "output_type": "stream",
     "text": [
      "Enter your choice: 1\n",
      "Enter a value to insert: 22\n"
     ]
    },
    {
     "name": "stdout",
     "output_type": "stream",
     "text": [
      "22 inserted last\n",
      "\n",
      " LinkedList- Insert At end....\n",
      "1. Insert\n",
      "2. Display\n",
      "3. Delete\n",
      "4. Exit\n"
     ]
    },
    {
     "name": "stdin",
     "output_type": "stream",
     "text": [
      "Enter your choice: 1\n",
      "Enter a value to insert: 33\n"
     ]
    },
    {
     "name": "stdout",
     "output_type": "stream",
     "text": [
      "33 inserted last\n",
      "\n",
      " LinkedList- Insert At end....\n",
      "1. Insert\n",
      "2. Display\n",
      "3. Delete\n",
      "4. Exit\n"
     ]
    },
    {
     "name": "stdin",
     "output_type": "stream",
     "text": [
      "Enter your choice: 2\n"
     ]
    },
    {
     "name": "stdout",
     "output_type": "stream",
     "text": [
      "11---22---33---None\n",
      "\n",
      " LinkedList- Insert At end....\n",
      "1. Insert\n",
      "2. Display\n",
      "3. Delete\n",
      "4. Exit\n"
     ]
    },
    {
     "name": "stdin",
     "output_type": "stream",
     "text": [
      "Enter your choice: 3\n"
     ]
    },
    {
     "name": "stdout",
     "output_type": "stream",
     "text": [
      "deleted node  from begining 11\n",
      "\n",
      " LinkedList- Insert At end....\n",
      "1. Insert\n",
      "2. Display\n",
      "3. Delete\n",
      "4. Exit\n"
     ]
    },
    {
     "name": "stdin",
     "output_type": "stream",
     "text": [
      "Enter your choice: 4\n"
     ]
    },
    {
     "name": "stdout",
     "output_type": "stream",
     "text": [
      "Exit the operation\n"
     ]
    }
   ],
   "source": [
    "''' delete operation At bgining '''\n",
    "\n",
    "class Node:\n",
    "    def __init__(self,data):\n",
    "        self.data=data\n",
    "        self.next=None\n",
    "class Linkedlist:\n",
    "    def __init__(self):\n",
    "        self.head=None\n",
    "    def iae(self,data):\n",
    "        newnode=Node(data)\n",
    "        if self.head is None:\n",
    "            self.head=newnode\n",
    "            print(f\"{data} inserted at end / will br first node\")\n",
    "            return\n",
    "        current=self.head\n",
    "        while current.next:\n",
    "            current=current.next\n",
    "        current.next=newnode\n",
    "        print(f\"{data} inserted last\")\n",
    "    def display(self):\n",
    "        current=self.head\n",
    "        if not current:\n",
    "            print(\"LL-empty\")\n",
    "            return \n",
    "        while current:\n",
    "             print(current.data,end='---')\n",
    "             current=current.next\n",
    "        print(\"None\") \n",
    "\n",
    "    def deletebegin(self):\n",
    "        if self.head is None:\n",
    "            print(\"LL is empty\")\n",
    "        else:\n",
    "            print(\"deleted node  from begining\",self.head.data)\n",
    "            self.head=self.head.next\n",
    "\n",
    "l1=Linkedlist()\n",
    "while True:\n",
    "    print(\"\\n LinkedList- Insert At end....\")\n",
    "    print(\"1. Insert\")\n",
    "    print(\"2. Display\")\n",
    "    print(\"3. Delete\")\n",
    "    print(\"4. Exit\")\n",
    "    choice=input(\"Enter your choice:\")\n",
    "    if choice=='1':\n",
    "        data=int(input(\"Enter a value to insert:\"))\n",
    "        l1.iae(data)\n",
    "    elif choice=='2':\n",
    "        l1.display()\n",
    "    elif choice=='3':\n",
    "        l1.deletebegin()\n",
    "    elif choice=='4':\n",
    "        print(\"Exit the operation\")\n",
    "        break\n",
    "    else:\n",
    "        print(\"Enter only ..\")"
   ]
  },
  {
   "cell_type": "code",
   "execution_count": null,
   "id": "76d0b49b-04cd-477c-9259-43c15c988a94",
   "metadata": {},
   "outputs": [],
   "source": []
  }
 ],
 "metadata": {
  "kernelspec": {
   "display_name": "Python 3 (ipykernel)",
   "language": "python",
   "name": "python3"
  },
  "language_info": {
   "codemirror_mode": {
    "name": "ipython",
    "version": 3
   },
   "file_extension": ".py",
   "mimetype": "text/x-python",
   "name": "python",
   "nbconvert_exporter": "python",
   "pygments_lexer": "ipython3",
   "version": "3.12.7"
  }
 },
 "nbformat": 4,
 "nbformat_minor": 5
}
