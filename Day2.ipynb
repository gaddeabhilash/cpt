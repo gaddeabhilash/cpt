{
 "cells": [
  {
   "cell_type": "code",
   "execution_count": 1,
   "id": "a70e3ee7-de7b-44aa-bf07-21ad64b89af3",
   "metadata": {},
   "outputs": [
    {
     "name": "stdout",
     "output_type": "stream",
     "text": [
      "[0, 1, 4, 9, 16]\n"
     ]
    }
   ],
   "source": [
    "sq=[x**2 for x in range(5)]\n",
    "print(sq)"
   ]
  },
  {
   "cell_type": "code",
   "execution_count": 2,
   "id": "e92ccf82-3988-4aaa-8fb1-2b6dc5145378",
   "metadata": {
    "collapsed": true,
    "jupyter": {
     "outputs_hidden": true
    },
    "scrolled": true
   },
   "outputs": [
    {
     "name": "stdout",
     "output_type": "stream",
     "text": [
      "['APPLE', 'KIWI', 'BANNANA']\n"
     ]
    }
   ],
   "source": [
    "data=['apple','kiwi','bannana']\n",
    "word=[i.upper() for i in data]\n",
    "print(word)"
   ]
  },
  {
   "cell_type": "code",
   "execution_count": 9,
   "id": "4dccbb8b-72d8-4b4f-b114-d0459cbf67d7",
   "metadata": {},
   "outputs": [
    {
     "name": "stdout",
     "output_type": "stream",
     "text": [
      "[1, 2, 3, 4, 5, 6, 7, 8, 9]\n"
     ]
    }
   ],
   "source": [
    "#nested list comprehenion on 2d matrix to flatten\n",
    "matrix=[[1,2,3],[4,5,6],[7,8,9]]\n",
    "flat=[num for row in matrix for num in row]\n",
    "print(flat)"
   ]
  },
  {
   "cell_type": "code",
   "execution_count": 1,
   "id": "11f63a94-ae01-4247-ad83-20c469ab7ca2",
   "metadata": {},
   "outputs": [
    {
     "name": "stdout",
     "output_type": "stream",
     "text": [
      "[0, 0, 0, 1, 2]\n"
     ]
    }
   ],
   "source": [
    "#using logical condition replace all the negative numbers with zeros\n",
    "nums=[-2,-1,0,1,2]\n",
    "nonneg=[x if x>=0 else 0 for x in nums]\n",
    "print(nonneg)"
   ]
  },
  {
   "cell_type": "code",
   "execution_count": 7,
   "id": "755a2286-9b0e-4c43-beec-929ee572c294",
   "metadata": {},
   "outputs": [
    {
     "name": "stdout",
     "output_type": "stream",
     "text": [
      "['a', 'k', 'b']\n"
     ]
    }
   ],
   "source": [
    "data=['apple','kiwi','bannana']\n",
    "fc=[i[0] for i in data]\n",
    "print(fc)"
   ]
  },
  {
   "cell_type": "code",
   "execution_count": 5,
   "id": "36f5050d-bb54-42f4-80e9-ff6fb7128b51",
   "metadata": {},
   "outputs": [
    {
     "name": "stdout",
     "output_type": "stream",
     "text": [
      "[5, 4, 7]\n"
     ]
    }
   ],
   "source": [
    "data=['apple','kiwi','bannana']\n",
    "l=[len(i) for i in data]\n",
    "print(l)"
   ]
  },
  {
   "cell_type": "code",
   "execution_count": 15,
   "id": "78f5202b-700e-464c-a84c-8e6ffd7bfdc7",
   "metadata": {},
   "outputs": [
    {
     "name": "stdout",
     "output_type": "stream",
     "text": [
      "[1, None, 2, None, 3, 4, 5]\n",
      "[1, 2, 3, 4, 5]\n"
     ]
    }
   ],
   "source": [
    "#filtering none values\n",
    "items=[1,None, 2,None,3,4,5]\n",
    "vaild=[x for x in items if x is not None]\n",
    "print(items)\n",
    "print(vaild)"
   ]
  },
  {
   "cell_type": "code",
   "execution_count": 21,
   "id": "168a05ee-fcbc-4083-bad4-0bb0486488b8",
   "metadata": {},
   "outputs": [
    {
     "name": "stdout",
     "output_type": "stream",
     "text": [
      "[1, None, 2, None, 3, 4, 5]\n",
      "[1, 0, 2, 0, 3, 4, 5]\n"
     ]
    }
   ],
   "source": [
    "#none values with zero\n",
    "items=[1,None, 2,None,3,4,5]\n",
    "vaild=[x if x is not None else 0 for x in items ]\n",
    "print(items)\n",
    "print(vaild)"
   ]
  },
  {
   "cell_type": "code",
   "execution_count": 33,
   "id": "0845bbe1-b4af-4bde-bfdd-8f51288c0e54",
   "metadata": {},
   "outputs": [
    {
     "name": "stdout",
     "output_type": "stream",
     "text": [
      "[('Abhi', 20), ('Abhi', 21), ('neta', 20), ('neta', 21)]\n"
     ]
    }
   ],
   "source": [
    "#testing tuples\n",
    "names=['Abhi','neta']\n",
    "ages=[20,21]\n",
    "pair=[(name,age) for name in names for age in ages]\n",
    "print(pair)"
   ]
  },
  {
   "cell_type": "code",
   "execution_count": 57,
   "id": "bc23819b-9e28-4c21-ac97-5f801490d309",
   "metadata": {},
   "outputs": [
    {
     "name": "stdout",
     "output_type": "stream",
     "text": [
      "['e', 'o', 'U', 'e']\n"
     ]
    }
   ],
   "source": [
    "#given a string , create a list of all vowels in the string using list comprehenion\n",
    "text= 'hello stUdents'\n",
    "#output=['e','o','u','a','i','E','O','U','A','I']\n",
    "vowels=[x for x in text if x in 'aeiouAEOIU' ]\n",
    "print(vowels)"
   ]
  },
  {
   "cell_type": "code",
   "execution_count": 55,
   "id": "87e74727-9abb-4f7a-b95a-7797b76ff6b7",
   "metadata": {},
   "outputs": [
    {
     "name": "stdout",
     "output_type": "stream",
     "text": [
      "['e', 'o', 'U', 'e']\n"
     ]
    }
   ],
   "source": [
    "#given a string , create a list of all vowels in the string using list comprehenion\n",
    "text= 'hello stUdents'\n",
    "vowels=[x for x in text if x.lower() in 'aeiou' ] #using lower case to just check\n",
    "print(vowels)"
   ]
  },
  {
   "cell_type": "code",
   "execution_count": 91,
   "id": "2de69863-3d74-47ac-a729-9cce13038e53",
   "metadata": {},
   "outputs": [
    {
     "name": "stdout",
     "output_type": "stream",
     "text": [
      "enter the size of the matrix: 5\n"
     ]
    },
    {
     "name": "stdout",
     "output_type": "stream",
     "text": [
      "$ $ $ $ $ \n",
      "$ $ $ $ $ \n",
      "$ $ $ $ $ \n",
      "$ $ $ $ $ \n",
      "$ $ $ $ $ \n"
     ]
    }
   ],
   "source": [
    "#printing square using $\n",
    "size = int(input(\"enter the size of the matrix:\"))\n",
    "for i in range(size):\n",
    "    for j in range(size):\n",
    "        print('$', end=\" \")\n",
    "    print()\n"
   ]
  },
  {
   "cell_type": "code",
   "execution_count": 89,
   "id": "c757b977-0d9a-451f-a979-e1cb367ac3eb",
   "metadata": {},
   "outputs": [
    {
     "name": "stdout",
     "output_type": "stream",
     "text": [
      "enter the size of the matrix: 4\n"
     ]
    },
    {
     "name": "stdout",
     "output_type": "stream",
     "text": [
      "$ $ $ $ \n",
      "$     $ \n",
      "$     $ \n",
      "$ $ $ $ \n"
     ]
    }
   ],
   "source": [
    "#printing halo square using $\n",
    "size = int(input(\"enter the size of the matrix:\"))\n",
    "for i in range(size):\n",
    "    for j in range(size):\n",
    "        if j==0 or j==(size-1) or i==0 or i==(size-1):\n",
    "            print('$', end=\" \")\n",
    "        else:\n",
    "            print(' ',end=\" \")\n",
    "    print()\n"
   ]
  },
  {
   "cell_type": "code",
   "execution_count": 97,
   "id": "1625a592-c343-44a4-90e0-b7f2fc8986d6",
   "metadata": {},
   "outputs": [
    {
     "name": "stdout",
     "output_type": "stream",
     "text": [
      "enter the size of the matrix: 9\n"
     ]
    },
    {
     "name": "stdout",
     "output_type": "stream",
     "text": [
      "$ $ $ $ $ $ $ $ $ \n",
      "$ $           $ $ \n",
      "$   $       $   $ \n",
      "$     $   $     $ \n",
      "$       $       $ \n",
      "$     $   $     $ \n",
      "$   $       $   $ \n",
      "$ $           $ $ \n",
      "$ $ $ $ $ $ $ $ $ \n"
     ]
    }
   ],
   "source": [
    "size = int(input(\"enter the size of the matrix:\"))\n",
    "for i in range(size):\n",
    "    for j in range(size):\n",
    "        if j==0 or j==(size-1) or i==0 or i==(size-1) or i==j or j+i==size-1:\n",
    "            print('$', end=\" \")\n",
    "        else:\n",
    "            print(' ',end=\" \")\n",
    "    print()\n"
   ]
  },
  {
   "cell_type": "code",
   "execution_count": 3,
   "id": "678f550f",
   "metadata": {},
   "outputs": [
    {
     "name": "stdout",
     "output_type": "stream",
     "text": [
      "$         \n",
      "$ $       \n",
      "$   $     \n",
      "$     $   \n",
      "$ $ $ $ $ \n"
     ]
    }
   ],
   "source": [
    "size = int(input(\"enter the size of the matrix:\"))\n",
    "for i in range(size):\n",
    "    for j in range(size):\n",
    "        if j==0 or i==(size-1) or i==j :\n",
    "            print('$', end=\" \")\n",
    "        else:\n",
    "            print(' ',end=\" \")\n",
    "    print()\n"
   ]
  },
  {
   "cell_type": "code",
   "execution_count": 7,
   "id": "ec4489f9",
   "metadata": {},
   "outputs": [
    {
     "name": "stdout",
     "output_type": "stream",
     "text": [
      "        * \n",
      "      * * * \n",
      "    * * * * * \n",
      "  * * * * * * * \n",
      "* * * * * * * * * \n"
     ]
    }
   ],
   "source": [
    "row=5\n",
    "for i in range(row):\n",
    "    for j in range(row-i-1):\n",
    "        print(\" \",end=' ')\n",
    "    for k in range(2*i +1):\n",
    "        print(\"*\", end=\" \")\n",
    "    print()"
   ]
  },
  {
   "cell_type": "code",
   "execution_count": 6,
   "id": "72f631e2",
   "metadata": {},
   "outputs": [
    {
     "name": "stdout",
     "output_type": "stream",
     "text": [
      "        0 \n",
      "      1 1 1 \n",
      "    2 2 2 2 2 \n",
      "  3 3 3 3 3 3 3 \n",
      "4 4 4 4 4 4 4 4 4 \n"
     ]
    }
   ],
   "source": [
    "row=5\n",
    "for i in range(row):\n",
    "    for j in range(row-i-1):\n",
    "        print(\" \",end=' ')\n",
    "    for k in range(2*i +1):\n",
    "        print(i, end=\" \")\n",
    "    print()"
   ]
  },
  {
   "cell_type": "code",
   "execution_count": 28,
   "id": "b1dec1f2",
   "metadata": {},
   "outputs": [
    {
     "name": "stdout",
     "output_type": "stream",
     "text": [
      "               1    \n",
      "            1    1    \n",
      "         1    2    1    \n",
      "      1    3    3    1    \n",
      "   1    4    6    4    1    \n",
      "1    5    10    10    5    1    \n"
     ]
    }
   ],
   "source": [
    "row=6\n",
    "for i in range(row):\n",
    "    num=1\n",
    "    for j in range(row-i-1):\n",
    "        print(\" \",end='  ')\n",
    "    for k in range(i+1):\n",
    "        print(num,end=\"    \")\n",
    "        num=num*(i-k)//(k+1)\n",
    "    print()"
   ]
  }
 ],
 "metadata": {
  "kernelspec": {
   "display_name": "base",
   "language": "python",
   "name": "python3"
  },
  "language_info": {
   "codemirror_mode": {
    "name": "ipython",
    "version": 3
   },
   "file_extension": ".py",
   "mimetype": "text/x-python",
   "name": "python",
   "nbconvert_exporter": "python",
   "pygments_lexer": "ipython3",
   "version": "3.12.7"
  }
 },
 "nbformat": 4,
 "nbformat_minor": 5
}
