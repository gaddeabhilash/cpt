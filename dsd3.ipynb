{
 "cells": [
  {
   "cell_type": "code",
   "execution_count": 12,
   "id": "900a7822",
   "metadata": {},
   "outputs": [
    {
     "name": "stdout",
     "output_type": "stream",
     "text": [
      "Enter 4 elements\n",
      "Sorted array [1, 3, 4, 7]\n"
     ]
    }
   ],
   "source": [
    "#selection sort\n",
    "'''\n",
    "1.start from 1st element in the list\n",
    "2.arr[0]=min\n",
    "3.compare with all the remaining elements to find the real lowest element\n",
    "4.perform swapping with current position\n",
    "5.repeat the same with adding positional values for each, min check \n",
    "\n",
    "for -> 0 to n-1:\n",
    "        min=i\n",
    "        for j-> i+1 to n:\n",
    "                if arr[j]< arr[min]\n",
    "                    swap\n",
    "min=i+1\n",
    "'''\n",
    "def ss(arr):\n",
    "    n=len(arr)\n",
    "    for i in range(n):\n",
    "        min_index=i\n",
    "        for j in range(i+1,n):\n",
    "            if arr[j]<arr[min_index]:\n",
    "                #swap\n",
    "                arr[i],arr[j]=arr[j],arr[i]\n",
    "    i=i+1       \n",
    "    return arr \n",
    "size=int(input({\"Enter the number of elements:\"}))\n",
    "arr=[]\n",
    "print(\"Enter\" ,size, \"elements\")\n",
    "for _ in range(size):\n",
    "    num=int(input())\n",
    "    arr.append(num)\n",
    "result=ss(arr)\n",
    "print(\"Sorted array\", result)"
   ]
  },
  {
   "cell_type": "code",
   "execution_count": null,
   "id": "f797cb35",
   "metadata": {},
   "outputs": [
    {
     "name": "stdout",
     "output_type": "stream",
     "text": [
      "Enter 4 elements\n",
      "Desending order [7, 5, 2, 0]\n"
     ]
    }
   ],
   "source": [
    "#Desending order\n",
    "def do(arr):\n",
    "    n=len(arr)\n",
    "    for i in range(n):\n",
    "        min_index=i\n",
    "        for j in range(i+1,n):\n",
    "            if arr[j]>arr[min_index]:\n",
    "                #swap\n",
    "                arr[i],arr[j]=arr[j],arr[i]\n",
    "    i=i+1       \n",
    "    return arr \n",
    "size=int(input({\"Enter the number of elements:\"}))\n",
    "arr=[]\n",
    "print(\"Enter\" ,size, \"elements\")\n",
    "for _ in range(size):\n",
    "    num=int(input())\n",
    "    arr.append(num)\n",
    "result=do(arr)\n",
    "print(\"Desending order\", result)"
   ]
  },
  {
   "cell_type": "code",
   "execution_count": null,
   "id": "026127af",
   "metadata": {},
   "outputs": [
    {
     "name": "stdout",
     "output_type": "stream",
     "text": [
      "Enter 4 elements\n",
      "sorted order [1, 2, 3, 4]\n"
     ]
    }
   ],
   "source": [
    "#insertion sort\n",
    "'''\n",
    "1.start from the second element (i=1)\n",
    "2.pervious index valued element check ()\n",
    "3.shift larger element one position to the right \n",
    "4.insert ther current element in the correct position\n",
    "5.repeat until list sorted\n",
    "\n",
    "for i-> 1 to n-1:\n",
    "    key = arr[i]\n",
    "    j=i-1\n",
    "    while j>=0 and arr[j]>key\n",
    "        arr[j+1]= arr[j]\n",
    "        j-=1\n",
    "    arr[j+1]=key  \n",
    "'''\n",
    "def io(arr):\n",
    "    for i in range(1,len(arr)):\n",
    "        key=arr[i]\n",
    "        j=i-1\n",
    "        while j>=0 and arr[j]>key:\n",
    "            arr[j+1]=arr[j]\n",
    "            j-=1\n",
    "        arr[j+1]=key\n",
    "    return arr    \n",
    "size=int(input({\"Enter the number of elements:\"}))\n",
    "arr=[]\n",
    "print(\"Enter\" ,size, \"elements\")\n",
    "for _ in range(size):\n",
    "    num=int(input())\n",
    "    arr.append(num)\n",
    "result=io(arr)\n",
    "print(\"sorted order\", result)"
   ]
  },
  {
   "cell_type": "code",
   "execution_count": null,
   "id": "33668c4a",
   "metadata": {},
   "outputs": [
    {
     "name": "stdout",
     "output_type": "stream",
     "text": [
      "Enter 4 elements\n",
      "sorted names ['abhi', 'achu ', 'hemant', 'jithu']\n"
     ]
    }
   ],
   "source": [
    "#sorting strings\n",
    "def io(arr):\n",
    "    for i in range(1,len(arr)):\n",
    "        key=arr[i]\n",
    "        j=i-1\n",
    "        while j>=0 and arr[j]>key:\n",
    "            arr[j+1]=arr[j]\n",
    "            j-=1\n",
    "        arr[j+1]=key\n",
    "    return arr    \n",
    "size=int(input({\"Enter the number of elements:\"}))\n",
    "arr=[]\n",
    "print(\"Enter\" ,size, \"elements\")\n",
    "for _ in range(size):\n",
    "    names=input()\n",
    "    arr.append(names)\n",
    "result=io(arr)\n",
    "print(\"sorted names\", result)"
   ]
  },
  {
   "cell_type": "code",
   "execution_count": null,
   "id": "8d047899",
   "metadata": {},
   "outputs": [
    {
     "name": "stdout",
     "output_type": "stream",
     "text": [
      "Enter 3 elements\n",
      "sorted names ['gth', 'achu', 'abhiiii']\n"
     ]
    }
   ],
   "source": [
    "#Sorting names by there length\n",
    "def io(arr):\n",
    "    for i in range(1,len(arr)):\n",
    "        key=arr[i]\n",
    "        j=i-1\n",
    "        while j>=0 and len(arr[j])>len(key):\n",
    "            arr[j+1]=arr[j]\n",
    "            j-=1\n",
    "        arr[j+1]=key\n",
    "    return arr    \n",
    "size=int(input({\"Enter the number of elements:\"}))\n",
    "arr=[]\n",
    "print(\"Enter\" ,size, \"elements\")\n",
    "for _ in range(size):\n",
    "    names=input()\n",
    "    arr.append(names)\n",
    "result=io(arr)\n",
    "print(\"sorted names\", result)\n"
   ]
  },
  {
   "cell_type": "code",
   "execution_count": null,
   "id": "82e188a7",
   "metadata": {},
   "outputs": [
    {
     "name": "stdout",
     "output_type": "stream",
     "text": [
      "sorted characters: adhss\n"
     ]
    }
   ],
   "source": [
    "#sorting characters in string\n",
    "def io(arr):\n",
    "    for i in range(1,len(arr)):\n",
    "        key=arr[i]\n",
    "        j=i-1\n",
    "        while j>=0 and arr[j]>key:\n",
    "            arr[j+1]=arr[j]\n",
    "            j-=1\n",
    "        arr[j+1]=key\n",
    "    return arr    \n",
    "text=input(\"Enter a string:\")\n",
    "ch=list(text)\n",
    "sort_chars=io(ch)\n",
    "print(\"sorted characters:\",''.join(ch))"
   ]
  }
 ],
 "metadata": {
  "kernelspec": {
   "display_name": "base",
   "language": "python",
   "name": "python3"
  },
  "language_info": {
   "codemirror_mode": {
    "name": "ipython",
    "version": 3
   },
   "file_extension": ".py",
   "mimetype": "text/x-python",
   "name": "python",
   "nbconvert_exporter": "python",
   "pygments_lexer": "ipython3",
   "version": "3.12.7"
  }
 },
 "nbformat": 4,
 "nbformat_minor": 5
}
