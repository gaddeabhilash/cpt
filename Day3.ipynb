{
 "cells": [
  {
   "cell_type": "code",
   "execution_count": 2,
   "id": "47dedb00-a45c-4d5c-89e1-195e755a1bbb",
   "metadata": {},
   "outputs": [
    {
     "name": "stdout",
     "output_type": "stream",
     "text": [
      "hello, Abhilash!!\n"
     ]
    }
   ],
   "source": [
    "def fun(name):\n",
    "    return f\"hello, {name}!!\"\n",
    "print(fun(\"Abhilash\"))\n",
    "    "
   ]
  },
  {
   "cell_type": "code",
   "execution_count": 5,
   "id": "5f963552",
   "metadata": {},
   "outputs": [
    {
     "name": "stdout",
     "output_type": "stream",
     "text": [
      "1\n",
      "5\n",
      "15\n"
     ]
    }
   ],
   "source": [
    "#function with default parameters\n",
    "def sample(a=1,b=1):\n",
    "    return a*b  \n",
    "print(sample()) \n",
    "print(sample(5))\n",
    "print(sample(5,3))"
   ]
  },
  {
   "cell_type": "code",
   "execution_count": 3,
   "id": "34f89467",
   "metadata": {},
   "outputs": [
    {
     "name": "stdout",
     "output_type": "stream",
     "text": [
      "6\n",
      "110\n",
      "17\n"
     ]
    }
   ],
   "source": [
    "#function with keyword args *\n",
    "def result(*args):\n",
    "    return sum(args)\n",
    "print(result(1,2,3))\n",
    "print(result(11,22,33,44))\n",
    "print(result(2,3,5,7))"
   ]
  },
  {
   "cell_type": "code",
   "execution_count": null,
   "id": "b9326628",
   "metadata": {},
   "outputs": [
    {
     "name": "stdout",
     "output_type": "stream",
     "text": [
      "name : Abhi\n",
      "age : 20\n",
      "city : vijayawada\n"
     ]
    }
   ],
   "source": [
    "#functions with keyword args **\n",
    "#**kwargs\n",
    "def info(**kwargs):\n",
    "    for key, value in kwargs.items():\n",
    "        print(f\"{key} : {value}\")\n",
    "info(name='Abhi', age='20', city='vijayawada')"
   ]
  },
  {
   "cell_type": "code",
   "execution_count": 14,
   "id": "1f5651e0",
   "metadata": {},
   "outputs": [
    {
     "name": "stdout",
     "output_type": "stream",
     "text": [
      "25\n",
      "8\n"
     ]
    }
   ],
   "source": [
    "#Lambda function\n",
    "sq=lambda X: X*X\n",
    "print(sq(5))\n",
    "add=lambda X,Y: X+Y\n",
    "print(add(3,5))"
   ]
  },
  {
   "cell_type": "code",
   "execution_count": 21,
   "id": "db467ba3",
   "metadata": {},
   "outputs": [
    {
     "name": "stdout",
     "output_type": "stream",
     "text": [
      "Min:1 , Max:5 , Average:3.0\n"
     ]
    }
   ],
   "source": [
    "'''write a program to return n number of multiple values where passing a list of 1 to 5 elements\n",
    "return the min max and avg in a single function'''\n",
    "def sample(x):\n",
    "    return min(x),max(x), sum(x)/len(x)\n",
    "min_v, max_v, avg_v=sample(x=[1,2,3,4,5])\n",
    "print(f\"Min:{min_v} , Max:{max_v} , Average:{avg_v}\")"
   ]
  },
  {
   "cell_type": "code",
   "execution_count": 23,
   "id": "eebe3c94",
   "metadata": {},
   "outputs": [
    {
     "name": "stdout",
     "output_type": "stream",
     "text": [
      "120\n"
     ]
    }
   ],
   "source": [
    "#Direct recursion \n",
    "#function calls itself directly within its definition\n",
    "def fact(n):\n",
    "    if n==0 or n==1:\n",
    "        return 1\n",
    "    return n*fact(n-1)\n",
    "print(fact(5))"
   ]
  },
  {
   "cell_type": "code",
   "execution_count": 25,
   "id": "06ffcfdf",
   "metadata": {},
   "outputs": [
    {
     "name": "stdout",
     "output_type": "stream",
     "text": [
      "True\n",
      "True\n"
     ]
    }
   ],
   "source": [
    "def e(n):\n",
    "    if n==0:\n",
    "        return True\n",
    "    return o(n-1)\n",
    "def o(n):\n",
    "    if n==0:\n",
    "        return False\n",
    "    return e(n-1)\n",
    "print(e(4))\n",
    "print(o(3))"
   ]
  },
  {
   "cell_type": "code",
   "execution_count": null,
   "id": "128834c5",
   "metadata": {},
   "outputs": [
    {
     "name": "stdout",
     "output_type": "stream",
     "text": [
      "120\n"
     ]
    }
   ],
   "source": [
    "#tail non tail\n",
    "def fact(n,t=1):\n",
    "    if n==0 or n==1:\n",
    "        return t\n",
    "    return fact(n-1,n*t)\n",
    "print(fact(5))"
   ]
  },
  {
   "cell_type": "code",
   "execution_count": null,
   "id": "e8fee4ed",
   "metadata": {},
   "outputs": [
    {
     "name": "stdout",
     "output_type": "stream",
     "text": [
      "55\n"
     ]
    }
   ],
   "source": [
    "#linear rec\n",
    "#sum of 1 to n=(10)\n",
    "def total(n):\n",
    "    if n<=0:\n",
    "        return 0\n",
    "    return n+total(n-1)\n",
    "print(total(10))"
   ]
  }
 ],
 "metadata": {
  "kernelspec": {
   "display_name": "base",
   "language": "python",
   "name": "python3"
  },
  "language_info": {
   "codemirror_mode": {
    "name": "ipython",
    "version": 3
   },
   "file_extension": ".py",
   "mimetype": "text/x-python",
   "name": "python",
   "nbconvert_exporter": "python",
   "pygments_lexer": "ipython3",
   "version": "3.11.3"
  }
 },
 "nbformat": 4,
 "nbformat_minor": 5
}
