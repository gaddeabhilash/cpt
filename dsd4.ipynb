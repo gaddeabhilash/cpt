{
 "cells": [
  {
   "cell_type": "code",
   "execution_count": null,
   "id": "a650e6f3",
   "metadata": {},
   "outputs": [
    {
     "name": "stdout",
     "output_type": "stream",
     "text": [
      "Enter 3 elements\n",
      "Sorted array: [1, 2, 5]\n"
     ]
    }
   ],
   "source": [
    "#bubble sort \n",
    "'''\n",
    "1.start from the beginning of the array/list\n",
    "2.compare each pair to adjacent number\n",
    "3.if latest element is greater than adjcent perform swap\n",
    "4.repeat the process till n-1\n",
    "5.after each cycle/pass , largest unsorted element would be in correct pos\n",
    "6.repeat pass till all the elements are sorted \n",
    "pseudo:\n",
    "for i-> 0 to n:\n",
    "for j-> 0 to n-i-1:\n",
    "if a[j]>a[j+1]\n",
    "swap(a[j],a[j+1])\n",
    "'''\n",
    "def bubble_sort(arr):\n",
    "    n=len(arr)\n",
    "    for i in range(n):\n",
    "        for j in range(0,n-i-1):\n",
    "            if arr[j] > arr[j+1]:\n",
    "                arr[j], arr[j+1]= arr[j+1], arr[j]\n",
    "        return arr    \n",
    "size=int(input({\"Enter the number of elements:\"}))\n",
    "arr=[]\n",
    "print(\"Enter\" ,size, \"elements\")\n",
    "for _ in range(size):\n",
    "    num=int(input())\n",
    "    arr.append(num)\n",
    "result=bubble_sort(arr)\n",
    "print(\"Sorted array:\", result)"
   ]
  },
  {
   "cell_type": "code",
   "execution_count": 13,
   "id": "7e50bee9",
   "metadata": {},
   "outputs": [
    {
     "name": "stdout",
     "output_type": "stream",
     "text": [
      "Enter 4 elements\n",
      "Sorted array: [2, 3, 5, 7]\n"
     ]
    }
   ],
   "source": [
    "#counting sort\n",
    "'''\n",
    "non-comparision sort\n",
    "1. no -ve numbers\n",
    "2.no long numbers\n",
    "3.short confined numbers\n",
    "\n",
    "Algorithm:\n",
    "1.find max min of array\n",
    "2.min!<0\n",
    "3.create a count array to store frequncy of numbers\n",
    "4.modify the count array for each element to be store the sum of previoues counts\n",
    "5.place the output array back to the original array\n",
    "\n",
    "pseudo code:\n",
    "1.find the max in arr\n",
    "2.create count(0-max)\n",
    "3.for i-> 0 to n-1:\n",
    "count[a[i]] +=1\n",
    "4.for i->1 to max_val:\n",
    "count[i]+=count[i-1]\n",
    "create output arr[n]\n",
    "5.for i->n-1 to 0 :\n",
    "output[count[a[i]]-1]=a[i]\n",
    "count[a[i]]=-1\n",
    "copy output to arr\n",
    "'''\n",
    "def csor(arr):\n",
    "    if not arr:\n",
    "        return []\n",
    "    max_value=max(arr)\n",
    "    count=[0]*(max_value+1)\n",
    "    for num in arr:\n",
    "        count[num]+=1\n",
    "    for i in range(1,len(count)):\n",
    "        count[i]+=count[i-1]\n",
    "    output= [0]* len(arr)\n",
    "    for num in reversed(arr):\n",
    "        output[count[num-1]]=num\n",
    "        count[num]-=1\n",
    "    for i in range(len(arr)):\n",
    "        arr[i]= output[i]\n",
    "    return arr\n",
    "size=int(input({\"Enter the number of elements:\"}))\n",
    "arr=[]\n",
    "print(\"Enter\" ,size, \"elements\")\n",
    "for _ in range(size):\n",
    "    num=int(input())\n",
    "    arr.append(num)\n",
    "result=csor(arr)\n",
    "print(\"Sorted array:\", result)  \n",
    "    "
   ]
  }
 ],
 "metadata": {
  "kernelspec": {
   "display_name": "base",
   "language": "python",
   "name": "python3"
  },
  "language_info": {
   "codemirror_mode": {
    "name": "ipython",
    "version": 3
   },
   "file_extension": ".py",
   "mimetype": "text/x-python",
   "name": "python",
   "nbconvert_exporter": "python",
   "pygments_lexer": "ipython3",
   "version": "3.12.7"
  }
 },
 "nbformat": 4,
 "nbformat_minor": 5
}
