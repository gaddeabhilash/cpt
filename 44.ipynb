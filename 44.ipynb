{
 "cells": [
  {
   "cell_type": "markdown",
   "id": "a7d023c9",
   "metadata": {},
   "source": []
  },
  {
   "cell_type": "code",
   "execution_count": 1,
   "id": "3c679cd1",
   "metadata": {},
   "outputs": [
    {
     "name": "stdout",
     "output_type": "stream",
     "text": [
      "Animal sound\n",
      "Dog barks....!\n",
      "puppy weeps...!\n"
     ]
    }
   ],
   "source": [
    "#multi-level inheritance\n",
    "class pet:\n",
    "    def sound(self):\n",
    "        print(\"Animal sound\")\n",
    "class dog(pet):\n",
    "    def bark(self):\n",
    "        print(\"Dog barks....!\")\n",
    "class puppy(dog):\n",
    "    def weep(self):\n",
    "        print(\"puppy weeps...!\")\n",
    "puppy=puppy()\n",
    "puppy.sound()\n",
    "puppy.bark()\n",
    "puppy.weep()"
   ]
  },
  {
   "cell_type": "code",
   "execution_count": 3,
   "id": "5e65f601",
   "metadata": {},
   "outputs": [
    {
     "name": "stdout",
     "output_type": "stream",
     "text": [
      "Addition: 10\n",
      "sub: 0\n",
      "mul: 25\n"
     ]
    }
   ],
   "source": [
    "'''code for math operations using base class , with 1st and 2nd derived class\n",
    "respectively.\n",
    "create an object where derived will be executed and perform multiple operations'''\n",
    "class ops:\n",
    "    def __init__(self,a,b):\n",
    "        self.a=a\n",
    "        self.b=b\n",
    "class basicops(ops):\n",
    "    def add(self):\n",
    "        return self.a+self.b\n",
    "    def sub(self):\n",
    "        return self.a-self.b\n",
    "class advops(basicops):\n",
    "    def mul(self):\n",
    "        return self.a*self.b\n",
    "    def div(self):\n",
    "        return self.a/self.b\n",
    "x=int(input())\n",
    "y=int(input())\n",
    "clac=advops(x,y)\n",
    "print(\"Addition:\",clac.add())\n",
    "print(\"sub:\",clac.sub())\n",
    "print(\"mul:\",clac.mul())"
   ]
  },
  {
   "cell_type": "code",
   "execution_count": 7,
   "id": "bac6814c",
   "metadata": {},
   "outputs": [
    {
     "name": "stdout",
     "output_type": "stream",
     "text": [
      "Student name: Abhi\n",
      "total marks: 373\n",
      "avg: 93.25\n",
      "student grade: A\n"
     ]
    }
   ],
   "source": [
    "class stu():\n",
    "    def __init__(self,name):\n",
    "        self.name=name\n",
    "class marks(stu):\n",
    "    def __init__(self,name,marks):\n",
    "        super().__init__(name)\n",
    "        self.marks=marks\n",
    "    def tolmarks(self):\n",
    "        return sum(self.marks)\n",
    "class grade(marks):\n",
    "    def avg(self):\n",
    "        return self.tolmarks()/len(self.marks)\n",
    "    def calgrade(self):\n",
    "        avg=self.avg()\n",
    "        if avg>=90:\n",
    "            return 'A'\n",
    "        if avg>=75:\n",
    "            return 'B'\n",
    "        if avg>=60:\n",
    "            return 'C'\n",
    "        else:\n",
    "            return 'D'\n",
    "stu=grade(\"Abhi\",[90,95,99,89])\n",
    "print(\"Student name:\",stu.name)\n",
    "print(\"total marks:\",stu.tolmarks())\n",
    "print(\"avg:\",stu.avg())\n",
    "print(\"student grade:\",stu.calgrade())\n"
   ]
  },
  {
   "cell_type": "code",
   "execution_count": 9,
   "id": "20a6ae5a",
   "metadata": {},
   "outputs": [
    {
     "name": "stdout",
     "output_type": "stream",
     "text": [
      "milo barks!\n",
      "kiity Meows!\n"
     ]
    }
   ],
   "source": [
    "class pet:\n",
    "    def __init__(self,name):\n",
    "        self.name=name\n",
    "    def sound(self):\n",
    "        print(f\"{self.name}marks a sound\")\n",
    "class dog(pet):\n",
    "    def sound(self):\n",
    "        print(f\"{self.name} barks!\")\n",
    "class cat(pet):\n",
    "    def sound(self):\n",
    "        print(f\"{self.name} Meows!\")\n",
    "d=dog(\"milo\")\n",
    "c=cat(\"kiity\")\n",
    "d.sound()\n",
    "c.sound()"
   ]
  },
  {
   "cell_type": "code",
   "execution_count": 13,
   "id": "3e7650dd",
   "metadata": {},
   "outputs": [
    {
     "name": "stdout",
     "output_type": "stream",
     "text": [
      "Area of triangle: 25.0\n",
      "Area of cricle: 153.93804002589985\n",
      "Area of Rectangle: 24\n"
     ]
    }
   ],
   "source": [
    "''' Hierarchical geometry operations of different shapes area values of all \n",
    "circle ,rectangle, triangle derived classes'''\n",
    "import math\n",
    "class shape:\n",
    "    def __init__(self,d1,d2=0):\n",
    "        self.d1=d1\n",
    "        self.d2=d2\n",
    "class rect(shape):\n",
    "    def area(self):\n",
    "        return self.d1*self.d2\n",
    "class cricle(shape):\n",
    "    def area(self):\n",
    "        return  math.pi * self.d1  * self.d1\n",
    "class triangle(shape):\n",
    "    def area(self):\n",
    "        return 0.5*self.d1*self.d2\n",
    "tri=triangle(10,5)\n",
    "c=cricle(7)\n",
    "r=rect(6,4)\n",
    "print(\"Area of triangle:\",tri.area())\n",
    "print(\"Area of cricle:\",c.area())\n",
    "print(\"Area of Rectangle:\",r.area())\n"
   ]
  },
  {
   "cell_type": "code",
   "execution_count": 15,
   "id": "5ae7f612",
   "metadata": {},
   "outputs": [
    {
     "name": "stdout",
     "output_type": "stream",
     "text": [
      "Area of triangle is  15.0\n",
      "Area of rectangle 50\n",
      "Area of cricle is  113.09733552923255\n"
     ]
    }
   ],
   "source": [
    "#Abstraction of the base class for evaluating the area of sq,rect,tri\n",
    "from abc import ABC,abstractmethod\n",
    "import math\n",
    "class shape:\n",
    "    def __init__(self,name):\n",
    "        self.name=name\n",
    "    @abstractmethod\n",
    "    def area(self):\n",
    "        pass\n",
    "class rectangle(shape):\n",
    "    def __init__(self,l,b):\n",
    "        super().__init__(\"rectangle\")\n",
    "        self.l=l\n",
    "        self.b=b\n",
    "    def area(self):\n",
    "        return self.l*self.b\n",
    "class cricle(shape):\n",
    "    def __init__(self,r):\n",
    "        super().__init__(\"cricle\")\n",
    "        self.r=r\n",
    "    def area(self):\n",
    "        return math.pi*self.r*self.r\n",
    "class triangle(shape):\n",
    "    def __init__(self,l,b):\n",
    "        super().__init__(\"triangle\")\n",
    "        self.l=l\n",
    "        self.b=b\n",
    "    def area(self):\n",
    "        return 0.5*self.l*self.b\n",
    "r=rectangle(10,5)\n",
    "c=cricle(6)\n",
    "t=triangle(5,6)\n",
    "print(\"Area of triangle is \",t.area())\n",
    "print(\"Area of rectangle\",r.area())\n",
    "print(\"Area of cricle is \",c.area())"
   ]
  }
 ],
 "metadata": {
  "kernelspec": {
   "display_name": "base",
   "language": "python",
   "name": "python3"
  },
  "language_info": {
   "codemirror_mode": {
    "name": "ipython",
    "version": 3
   },
   "file_extension": ".py",
   "mimetype": "text/x-python",
   "name": "python",
   "nbconvert_exporter": "python",
   "pygments_lexer": "ipython3",
   "version": "3.12.7"
  }
 },
 "nbformat": 4,
 "nbformat_minor": 5
}
